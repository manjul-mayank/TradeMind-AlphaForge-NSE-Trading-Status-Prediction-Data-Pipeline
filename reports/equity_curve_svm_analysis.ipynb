{
 "cells": [
  {
   "cell_type": "markdown",
   "id": "b580a8ff",
   "metadata": {},
   "source": [
    "# Import Required Libraries\n",
    "We will import pandas, matplotlib, scikit-learn, and any other necessary libraries for data analysis, visualization, and SVM modeling."
   ]
  },
  {
   "cell_type": "code",
   "execution_count": 1,
   "id": "f9df2ba6",
   "metadata": {},
   "outputs": [
    {
     "name": "stdout",
     "output_type": "stream",
     "text": [
      "/Users/manjulmayank/Desktop/trading-pipeline/.venv/bin/python\n"
     ]
    }
   ],
   "source": [
    "import sys\n",
    "print(sys.executable)"
   ]
  },
  {
   "cell_type": "code",
   "execution_count": 2,
   "id": "3680daa3",
   "metadata": {},
   "outputs": [],
   "source": [
    "import pandas as pd\n",
    "import numpy as np\n",
    "import matplotlib.pyplot as plt\n",
    "from sklearn.svm import SVC\n",
    "from sklearn.model_selection import train_test_split\n",
    "from sklearn.metrics import classification_report, accuracy_score"
   ]
  },
  {
   "cell_type": "code",
   "execution_count": 3,
   "id": "9557e788",
   "metadata": {},
   "outputs": [
    {
     "data": {
      "text/html": [
       "<div>\n",
       "<style scoped>\n",
       "    .dataframe tbody tr th:only-of-type {\n",
       "        vertical-align: middle;\n",
       "    }\n",
       "\n",
       "    .dataframe tbody tr th {\n",
       "        vertical-align: top;\n",
       "    }\n",
       "\n",
       "    .dataframe thead th {\n",
       "        text-align: right;\n",
       "    }\n",
       "</style>\n",
       "<table border=\"1\" class=\"dataframe\">\n",
       "  <thead>\n",
       "    <tr style=\"text-align: right;\">\n",
       "      <th></th>\n",
       "      <th>symbol</th>\n",
       "      <th>series</th>\n",
       "      <th>date</th>\n",
       "      <th>prev_close</th>\n",
       "      <th>open</th>\n",
       "      <th>high</th>\n",
       "      <th>low</th>\n",
       "      <th>last</th>\n",
       "      <th>close</th>\n",
       "      <th>AVG_PRICE</th>\n",
       "      <th>...</th>\n",
       "      <th>close_lag_5</th>\n",
       "      <th>ret_lag_5</th>\n",
       "      <th>close_lag_10</th>\n",
       "      <th>ret_lag_10</th>\n",
       "      <th>y_ret</th>\n",
       "      <th>y_cls</th>\n",
       "      <th>signal</th>\n",
       "      <th>shift_sig</th>\n",
       "      <th>strat_ret</th>\n",
       "      <th>equity_curve</th>\n",
       "    </tr>\n",
       "  </thead>\n",
       "  <tbody>\n",
       "    <tr>\n",
       "      <th>0</th>\n",
       "      <td>HDFCBANK</td>\n",
       "      <td>EQ</td>\n",
       "      <td>2025-05-16</td>\n",
       "      <td>1933.8</td>\n",
       "      <td>1933.8</td>\n",
       "      <td>1943.8</td>\n",
       "      <td>1928.4</td>\n",
       "      <td>1934.5</td>\n",
       "      <td>1934.7</td>\n",
       "      <td>1933.50</td>\n",
       "      <td>...</td>\n",
       "      <td>1889.7</td>\n",
       "      <td>-2.011926</td>\n",
       "      <td>1925.0</td>\n",
       "      <td>0.000000</td>\n",
       "      <td>0.206750</td>\n",
       "      <td>0</td>\n",
       "      <td>-1</td>\n",
       "      <td>0.0</td>\n",
       "      <td>0.000000</td>\n",
       "      <td>1.000000</td>\n",
       "    </tr>\n",
       "    <tr>\n",
       "      <th>1</th>\n",
       "      <td>TCS</td>\n",
       "      <td>EQ</td>\n",
       "      <td>2025-05-16</td>\n",
       "      <td>3579.9</td>\n",
       "      <td>3593.9</td>\n",
       "      <td>3593.9</td>\n",
       "      <td>3546.1</td>\n",
       "      <td>3561.3</td>\n",
       "      <td>3561.3</td>\n",
       "      <td>3559.81</td>\n",
       "      <td>...</td>\n",
       "      <td>3440.3</td>\n",
       "      <td>-0.249355</td>\n",
       "      <td>3444.7</td>\n",
       "      <td>-0.260590</td>\n",
       "      <td>-1.193384</td>\n",
       "      <td>-1</td>\n",
       "      <td>-1</td>\n",
       "      <td>-1.0</td>\n",
       "      <td>-0.841251</td>\n",
       "      <td>0.158749</td>\n",
       "    </tr>\n",
       "    <tr>\n",
       "      <th>2</th>\n",
       "      <td>ICICIBANK</td>\n",
       "      <td>EQ</td>\n",
       "      <td>2025-05-16</td>\n",
       "      <td>1450.8</td>\n",
       "      <td>1453.3</td>\n",
       "      <td>1458.7</td>\n",
       "      <td>1447.0</td>\n",
       "      <td>1452.4</td>\n",
       "      <td>1454.0</td>\n",
       "      <td>1454.25</td>\n",
       "      <td>...</td>\n",
       "      <td>1388.9</td>\n",
       "      <td>-3.246256</td>\n",
       "      <td>1432.4</td>\n",
       "      <td>0.378416</td>\n",
       "      <td>-0.343879</td>\n",
       "      <td>0</td>\n",
       "      <td>1</td>\n",
       "      <td>-1.0</td>\n",
       "      <td>0.591722</td>\n",
       "      <td>0.252685</td>\n",
       "    </tr>\n",
       "    <tr>\n",
       "      <th>3</th>\n",
       "      <td>RELIANCE</td>\n",
       "      <td>EQ</td>\n",
       "      <td>2025-05-16</td>\n",
       "      <td>1454.2</td>\n",
       "      <td>1453.2</td>\n",
       "      <td>1461.0</td>\n",
       "      <td>1447.3</td>\n",
       "      <td>1454.8</td>\n",
       "      <td>1456.4</td>\n",
       "      <td>1455.16</td>\n",
       "      <td>...</td>\n",
       "      <td>1377.2</td>\n",
       "      <td>-2.117982</td>\n",
       "      <td>1422.4</td>\n",
       "      <td>1.238434</td>\n",
       "      <td>-1.071134</td>\n",
       "      <td>-1</td>\n",
       "      <td>1</td>\n",
       "      <td>1.0</td>\n",
       "      <td>0.001151</td>\n",
       "      <td>0.252976</td>\n",
       "    </tr>\n",
       "    <tr>\n",
       "      <th>4</th>\n",
       "      <td>INFY</td>\n",
       "      <td>EQ</td>\n",
       "      <td>2025-05-16</td>\n",
       "      <td>1613.0</td>\n",
       "      <td>1612.6</td>\n",
       "      <td>1612.6</td>\n",
       "      <td>1581.5</td>\n",
       "      <td>1589.4</td>\n",
       "      <td>1589.9</td>\n",
       "      <td>1591.32</td>\n",
       "      <td>...</td>\n",
       "      <td>1507.6</td>\n",
       "      <td>-0.251423</td>\n",
       "      <td>1506.8</td>\n",
       "      <td>0.446637</td>\n",
       "      <td>-1.893201</td>\n",
       "      <td>-1</td>\n",
       "      <td>-1</td>\n",
       "      <td>1.0</td>\n",
       "      <td>0.091664</td>\n",
       "      <td>0.276165</td>\n",
       "    </tr>\n",
       "  </tbody>\n",
       "</table>\n",
       "<p>5 rows × 46 columns</p>\n",
       "</div>"
      ],
      "text/plain": [
       "      symbol series        date  prev_close    open    high     low    last  \\\n",
       "0   HDFCBANK     EQ  2025-05-16      1933.8  1933.8  1943.8  1928.4  1934.5   \n",
       "1        TCS     EQ  2025-05-16      3579.9  3593.9  3593.9  3546.1  3561.3   \n",
       "2  ICICIBANK     EQ  2025-05-16      1450.8  1453.3  1458.7  1447.0  1452.4   \n",
       "3   RELIANCE     EQ  2025-05-16      1454.2  1453.2  1461.0  1447.3  1454.8   \n",
       "4       INFY     EQ  2025-05-16      1613.0  1612.6  1612.6  1581.5  1589.4   \n",
       "\n",
       "    close  AVG_PRICE  ...  close_lag_5  ret_lag_5  close_lag_10  ret_lag_10  \\\n",
       "0  1934.7    1933.50  ...       1889.7  -2.011926        1925.0    0.000000   \n",
       "1  3561.3    3559.81  ...       3440.3  -0.249355        3444.7   -0.260590   \n",
       "2  1454.0    1454.25  ...       1388.9  -3.246256        1432.4    0.378416   \n",
       "3  1456.4    1455.16  ...       1377.2  -2.117982        1422.4    1.238434   \n",
       "4  1589.9    1591.32  ...       1507.6  -0.251423        1506.8    0.446637   \n",
       "\n",
       "      y_ret  y_cls  signal  shift_sig  strat_ret  equity_curve  \n",
       "0  0.206750      0      -1        0.0   0.000000      1.000000  \n",
       "1 -1.193384     -1      -1       -1.0  -0.841251      0.158749  \n",
       "2 -0.343879      0       1       -1.0   0.591722      0.252685  \n",
       "3 -1.071134     -1       1        1.0   0.001151      0.252976  \n",
       "4 -1.893201     -1      -1        1.0   0.091664      0.276165  \n",
       "\n",
       "[5 rows x 46 columns]"
      ]
     },
     "execution_count": 3,
     "metadata": {},
     "output_type": "execute_result"
    }
   ],
   "source": [
    "# Load the equity curve data\n",
    "curve = pd.read_csv('equity_curve.csv')\n",
    "curve.head()"
   ]
  },
  {
   "cell_type": "markdown",
   "id": "7a912776",
   "metadata": {},
   "source": [
    "# SVM Modeling: Predicting Up/Down Movement\n",
    "We will use the equity curve to create a target variable indicating whether the equity increased (1) or decreased (0) on the next day, and train a Support Vector Machine (SVM) classifier to predict this movement."
   ]
  },
  {
   "cell_type": "code",
   "execution_count": 5,
   "id": "39666626",
   "metadata": {},
   "outputs": [
    {
     "name": "stdout",
     "output_type": "stream",
     "text": [
      "              precision    recall  f1-score   support\n",
      "\n",
      "           0       0.75      1.00      0.86        49\n",
      "           1       0.00      0.00      0.00        16\n",
      "\n",
      "    accuracy                           0.75        65\n",
      "   macro avg       0.38      0.50      0.43        65\n",
      "weighted avg       0.57      0.75      0.65        65\n",
      "\n",
      "Accuracy: 0.7538461538461538\n"
     ]
    },
    {
     "name": "stderr",
     "output_type": "stream",
     "text": [
      "/Users/manjulmayank/Desktop/trading-pipeline/.venv/lib/python3.13/site-packages/sklearn/metrics/_classification.py:1531: UndefinedMetricWarning: Precision is ill-defined and being set to 0.0 in labels with no predicted samples. Use `zero_division` parameter to control this behavior.\n",
      "  _warn_prf(average, modifier, f\"{metric.capitalize()} is\", len(result))\n",
      "/Users/manjulmayank/Desktop/trading-pipeline/.venv/lib/python3.13/site-packages/sklearn/metrics/_classification.py:1531: UndefinedMetricWarning: Precision is ill-defined and being set to 0.0 in labels with no predicted samples. Use `zero_division` parameter to control this behavior.\n",
      "  _warn_prf(average, modifier, f\"{metric.capitalize()} is\", len(result))\n",
      "/Users/manjulmayank/Desktop/trading-pipeline/.venv/lib/python3.13/site-packages/sklearn/metrics/_classification.py:1531: UndefinedMetricWarning: Precision is ill-defined and being set to 0.0 in labels with no predicted samples. Use `zero_division` parameter to control this behavior.\n",
      "  _warn_prf(average, modifier, f\"{metric.capitalize()} is\", len(result))\n"
     ]
    }
   ],
   "source": [
    "# Create target: 1 if equity increases next day, else 0\n",
    "curve['target'] = (curve['equity_curve'].shift(-1) > curve['equity_curve']).astype(int)\n",
    "# Example feature: daily return\n",
    "curve['return'] = curve['equity_curve'].pct_change()\n",
    "# Drop last row (no target)\n",
    "data = curve.dropna().copy()\n",
    "X = data[['return']]\n",
    "y = data['target']\n",
    "\n",
    "# Train/test split\n",
    "X_train, X_test, y_train, y_test = train_test_split(X, y, test_size=0.2, shuffle=False)\n",
    "\n",
    "# Train SVM\n",
    "svm = SVC(kernel='rbf', C=1.0, random_state=42)\n",
    "svm.fit(X_train, y_train)\n",
    "\n",
    "# Predict\n",
    "y_pred = svm.predict(X_test)\n",
    "\n",
    "# Evaluation\n",
    "print(classification_report(y_test, y_pred))\n",
    "print('Accuracy:', accuracy_score(y_test, y_pred))"
   ]
  },
  {
   "cell_type": "code",
   "execution_count": 6,
   "id": "3f88a7a1",
   "metadata": {},
   "outputs": [
    {
     "name": "stdout",
     "output_type": "stream",
     "text": [
      "              precision    recall  f1-score   support\n",
      "\n",
      "           0       0.75      1.00      0.86        49\n",
      "           1       0.00      0.00      0.00        16\n",
      "\n",
      "    accuracy                           0.75        65\n",
      "   macro avg       0.38      0.50      0.43        65\n",
      "weighted avg       0.57      0.75      0.65        65\n",
      "\n",
      "Accuracy: 0.7538461538461538\n"
     ]
    },
    {
     "name": "stderr",
     "output_type": "stream",
     "text": [
      "/Users/manjulmayank/Desktop/trading-pipeline/.venv/lib/python3.13/site-packages/sklearn/metrics/_classification.py:1531: UndefinedMetricWarning: Precision is ill-defined and being set to 0.0 in labels with no predicted samples. Use `zero_division` parameter to control this behavior.\n",
      "  _warn_prf(average, modifier, f\"{metric.capitalize()} is\", len(result))\n",
      "/Users/manjulmayank/Desktop/trading-pipeline/.venv/lib/python3.13/site-packages/sklearn/metrics/_classification.py:1531: UndefinedMetricWarning: Precision is ill-defined and being set to 0.0 in labels with no predicted samples. Use `zero_division` parameter to control this behavior.\n",
      "  _warn_prf(average, modifier, f\"{metric.capitalize()} is\", len(result))\n",
      "/Users/manjulmayank/Desktop/trading-pipeline/.venv/lib/python3.13/site-packages/sklearn/metrics/_classification.py:1531: UndefinedMetricWarning: Precision is ill-defined and being set to 0.0 in labels with no predicted samples. Use `zero_division` parameter to control this behavior.\n",
      "  _warn_prf(average, modifier, f\"{metric.capitalize()} is\", len(result))\n"
     ]
    },
    {
     "data": {
      "image/png": "[encoded data removed]",
      "text/plain": [
       "<Figure size 1200x400 with 1 Axes>"
      ]
     },
     "metadata": {},
     "output_type": "display_data"
    }
   ],
   "source": [
    "# Train/test split\n",
    "X_train, X_test, y_train, y_test = train_test_split(X, y, test_size=0.2, shuffle=False)\n",
    "\n",
    "# Train SVM\n",
    "svm = SVC(kernel='rbf', C=1.0, random_state=42)\n",
    "svm.fit(X_train, y_train)\n",
    "\n",
    "# Predict\n",
    "y_pred = svm.predict(X_test)\n",
    "\n",
    "# Evaluation\n",
    "print(classification_report(y_test, y_pred))\n",
    "print('Accuracy:', accuracy_score(y_test, y_pred))\n",
    "\n",
    "# Plot SVM predictions vs actual\n",
    "plt.figure(figsize=(12,4))\n",
    "plt.plot(data.index[-len(y_test):], y_test.values, label='Actual', marker='o')\n",
    "plt.plot(data.index[-len(y_test):], y_pred, label='SVM Prediction', marker='x')\n",
    "plt.xlabel('Index')\n",
    "plt.ylabel('Up (1) / Down (0)')\n",
    "plt.title('SVM Prediction vs Actual Up/Down Movement')\n",
    "plt.legend()\n",
    "plt.show()"
   ]
  },
  {
   "cell_type": "code",
   "execution_count": 7,
   "id": "0813d154",
   "metadata": {},
   "outputs": [
    {
     "data": {
      "image/png": "[encoded data removed]",
      "text/plain": [
       "<Figure size 1200x400 with 1 Axes>"
      ]
     },
     "metadata": {},
     "output_type": "display_data"
    }
   ],
   "source": [
    "# Plot SVM predictions vs actual\n",
    "plt.figure(figsize=(12,4))\n",
    "plt.plot(data.index[-len(y_test):], y_test.values, label='Actual', marker='o')\n",
    "plt.plot(data.index[-len(y_test):], y_pred, label='SVM Prediction', marker='x')\n",
    "plt.xlabel('Index')\n",
    "plt.ylabel('Up (1) / Down (0)')\n",
    "plt.title('SVM Prediction vs Actual Up/Down Movement')\n",
    "plt.legend()\n",
    "plt.show()"
   ]
  },
  {
   "cell_type": "code",
   "execution_count": 8,
   "id": "9a4bc84a",
   "metadata": {},
   "outputs": [
    {
     "name": "stdout",
     "output_type": "stream",
     "text": [
      "Index(['symbol', 'series', 'date', 'prev_close', 'open', 'high', 'low', 'last',\n",
      "       'close', 'AVG_PRICE', 'volume', 'turnover_lacs', 'num_trades',\n",
      "       'deliv_qty', 'deliv_per', 'ret_1d', 'ret_5d', 'vwap_proxy', 'sma_5',\n",
      "       'sma_20', 'ema_12', 'ema_26', 'rsi_14', 'macd', 'macd_signal',\n",
      "       'macd_hist', 'bb_mid', 'bb_upper', 'bb_lower', 'atr_14', 'close_lag_1',\n",
      "       'ret_lag_1', 'close_lag_2', 'ret_lag_2', 'close_lag_3', 'ret_lag_3',\n",
      "       'close_lag_5', 'ret_lag_5', 'close_lag_10', 'ret_lag_10', 'y_ret',\n",
      "       'y_cls', 'signal', 'shift_sig', 'strat_ret', 'equity_curve', 'target',\n",
      "       'return'],\n",
      "      dtype='object')\n",
      "      symbol series        date  prev_close    open    high     low    last  \\\n",
      "0   HDFCBANK     EQ  2025-05-16      1933.8  1933.8  1943.8  1928.4  1934.5   \n",
      "1        TCS     EQ  2025-05-16      3579.9  3593.9  3593.9  3546.1  3561.3   \n",
      "2  ICICIBANK     EQ  2025-05-16      1450.8  1453.3  1458.7  1447.0  1452.4   \n",
      "3   RELIANCE     EQ  2025-05-16      1454.2  1453.2  1461.0  1447.3  1454.8   \n",
      "4       INFY     EQ  2025-05-16      1613.0  1612.6  1612.6  1581.5  1589.4   \n",
      "\n",
      "    close  AVG_PRICE  ...  close_lag_10  ret_lag_10     y_ret  y_cls  signal  \\\n",
      "0  1934.7    1933.50  ...        1925.0    0.000000  0.206750      0      -1   \n",
      "1  3561.3    3559.81  ...        3444.7   -0.260590 -1.193384     -1      -1   \n",
      "2  1454.0    1454.25  ...        1432.4    0.378416 -0.343879      0       1   \n",
      "3  1456.4    1455.16  ...        1422.4    1.238434 -1.071134     -1       1   \n",
      "4  1589.9    1591.32  ...        1506.8    0.446637 -1.893201     -1      -1   \n",
      "\n",
      "   shift_sig  strat_ret  equity_curve  target    return  \n",
      "0        0.0   0.000000      1.000000       0       NaN  \n",
      "1       -1.0  -0.841251      0.158749       1 -0.841251  \n",
      "2       -1.0   0.591722      0.252685       1  0.591722  \n",
      "3        1.0   0.001151      0.252976       1  0.001151  \n",
      "4        1.0   0.091664      0.276165       0  0.091664  \n",
      "\n",
      "[5 rows x 48 columns]\n"
     ]
    }
   ],
   "source": [
    "# Debug: Check columns and preview data\n",
    "print(curve.columns)\n",
    "print(curve.head())"
   ]
  },
  {
   "cell_type": "markdown",
   "id": "c28e67ea",
   "metadata": {},
   "source": [
    "# Enhanced Visualization of Equity Curve\n",
    "We will use Plotly for interactive visualization and Seaborn for a visually appealing static plot of the equity curve."
   ]
  },
  {
   "cell_type": "code",
   "execution_count": 9,
   "id": "5c0369e2",
   "metadata": {},
   "outputs": [
    {
     "name": "stdout",
     "output_type": "stream",
     "text": [
      "5.10.4\n"
     ]
    }
   ],
   "source": [
    "import nbformat\n",
    "print(nbformat.__version__)"
   ]
  },
  {
   "cell_type": "code",
   "execution_count": 10,
   "id": "c2dfac3a",
   "metadata": {},
   "outputs": [
    {
     "name": "stdout",
     "output_type": "stream",
     "text": [
      "Requirement already satisfied: seaborn in /Users/manjulmayank/Desktop/trading-pipeline/.venv/lib/python3.13/site-packages (0.13.2)\n",
      "Requirement already satisfied: numpy!=1.24.0,>=1.20 in /Users/manjulmayank/Desktop/trading-pipeline/.venv/lib/python3.13/site-packages (from seaborn) (1.26.4)\n",
      "Requirement already satisfied: pandas>=1.2 in /Users/manjulmayank/Desktop/trading-pipeline/.venv/lib/python3.13/site-packages (from seaborn) (2.2.2)\n",
      "Requirement already satisfied: matplotlib!=3.6.1,>=3.4 in /Users/manjulmayank/Desktop/trading-pipeline/.venv/lib/python3.13/site-packages (from seaborn) (3.10.5)\n",
      "Requirement already satisfied: contourpy>=1.0.1 in /Users/manjulmayank/Desktop/trading-pipeline/.venv/lib/python3.13/site-packages (from matplotlib!=3.6.1,>=3.4->seaborn) (1.3.3)\n",
      "Requirement already satisfied: cycler>=0.10 in /Users/manjulmayank/Desktop/trading-pipeline/.venv/lib/python3.13/site-packages (from matplotlib!=3.6.1,>=3.4->seaborn) (0.12.1)\n",
      "Requirement already satisfied: fonttools>=4.22.0 in /Users/manjulmayank/Desktop/trading-pipeline/.venv/lib/python3.13/site-packages (from matplotlib!=3.6.1,>=3.4->seaborn) (4.59.1)\n",
      "Requirement already satisfied: kiwisolver>=1.3.1 in /Users/manjulmayank/Desktop/trading-pipeline/.venv/lib/python3.13/site-packages (from matplotlib!=3.6.1,>=3.4->seaborn) (1.4.9)\n",
      "Requirement already satisfied: packaging>=20.0 in /Users/manjulmayank/Desktop/trading-pipeline/.venv/lib/python3.13/site-packages (from matplotlib!=3.6.1,>=3.4->seaborn) (25.0)\n",
      "Requirement already satisfied: pillow>=8 in /Users/manjulmayank/Desktop/trading-pipeline/.venv/lib/python3.13/site-packages (from matplotlib!=3.6.1,>=3.4->seaborn) (11.3.0)\n",
      "Requirement already satisfied: pyparsing>=2.3.1 in /Users/manjulmayank/Desktop/trading-pipeline/.venv/lib/python3.13/site-packages (from matplotlib!=3.6.1,>=3.4->seaborn) (3.2.3)\n",
      "Requirement already satisfied: python-dateutil>=2.7 in /Users/manjulmayank/Desktop/trading-pipeline/.venv/lib/python3.13/site-packages (from matplotlib!=3.6.1,>=3.4->seaborn) (2.9.0.post0)\n",
      "Requirement already satisfied: pytz>=2020.1 in /Users/manjulmayank/Desktop/trading-pipeline/.venv/lib/python3.13/site-packages (from pandas>=1.2->seaborn) (2025.2)\n",
      "Requirement already satisfied: tzdata>=2022.7 in /Users/manjulmayank/Desktop/trading-pipeline/.venv/lib/python3.13/site-packages (from pandas>=1.2->seaborn) (2025.2)\n",
      "Requirement already satisfied: six>=1.5 in /Users/manjulmayank/Desktop/trading-pipeline/.venv/lib/python3.13/site-packages (from python-dateutil>=2.7->matplotlib!=3.6.1,>=3.4->seaborn) (1.17.0)\n",
      "\n",
      "\u001b[1m[\u001b[0m\u001b[34;49mnotice\u001b[0m\u001b[1;39;49m]\u001b[0m\u001b[39;49m A new release of pip is available: \u001b[0m\u001b[31;49m24.2\u001b[0m\u001b[39;49m -> \u001b[0m\u001b[32;49m25.2\u001b[0m\n",
      "\u001b[1m[\u001b[0m\u001b[34;49mnotice\u001b[0m\u001b[1;39;49m]\u001b[0m\u001b[39;49m To update, run: \u001b[0m\u001b[32;49mpip install --upgrade pip\u001b[0m\n",
      "\n",
      "\u001b[1m[\u001b[0m\u001b[34;49mnotice\u001b[0m\u001b[1;39;49m]\u001b[0m\u001b[39;49m A new release of pip is available: \u001b[0m\u001b[31;49m24.2\u001b[0m\u001b[39;49m -> \u001b[0m\u001b[32;49m25.2\u001b[0m\n",
      "\u001b[1m[\u001b[0m\u001b[34;49mnotice\u001b[0m\u001b[1;39;49m]\u001b[0m\u001b[39;49m To update, run: \u001b[0m\u001b[32;49mpip install --upgrade pip\u001b[0m\n",
      "Note: you may need to restart the kernel to use updated packages.\n",
      "Note: you may need to restart the kernel to use updated packages.\n"
     ]
    }
   ],
   "source": [
    "pip install seaborn"
   ]
  },
  {
   "cell_type": "code",
   "execution_count": 11,
   "id": "e51c331c",
   "metadata": {},
   "outputs": [
    {
     "name": "stdout",
     "output_type": "stream",
     "text": [
      "Requirement already satisfied: jupyter in /Users/manjulmayank/Desktop/trading-pipeline/.venv/lib/python3.13/site-packages (1.1.1)\n",
      "Requirement already satisfied: ipython in /Users/manjulmayank/Desktop/trading-pipeline/.venv/lib/python3.13/site-packages (9.4.0)\n",
      "Requirement already satisfied: ipython in /Users/manjulmayank/Desktop/trading-pipeline/.venv/lib/python3.13/site-packages (9.4.0)\n",
      "Requirement already satisfied: notebook in /Users/manjulmayank/Desktop/trading-pipeline/.venv/lib/python3.13/site-packages (from jupyter) (7.4.5)\n",
      "Requirement already satisfied: jupyter-console in /Users/manjulmayank/Desktop/trading-pipeline/.venv/lib/python3.13/site-packages (from jupyter) (6.6.3)\n",
      "Requirement already satisfied: nbconvert in /Users/manjulmayank/Desktop/trading-pipeline/.venv/lib/python3.13/site-packages (from jupyter) (7.16.6)\n",
      "Requirement already satisfied: ipykernel in /Users/manjulmayank/Desktop/trading-pipeline/.venv/lib/python3.13/site-packages (from jupyter) (6.30.1)\n",
      "Requirement already satisfied: ipywidgets in /Users/manjulmayank/Desktop/trading-pipeline/.venv/lib/python3.13/site-packages (from jupyter) (8.1.7)\n",
      "Requirement already satisfied: jupyterlab in /Users/manjulmayank/Desktop/trading-pipeline/.venv/lib/python3.13/site-packages (from jupyter) (4.4.6)\n",
      "Requirement already satisfied: decorator in /Users/manjulmayank/Desktop/trading-pipeline/.venv/lib/python3.13/site-packages (from ipython) (5.2.1)\n",
      "Requirement already satisfied: ipython-pygments-lexers in /Users/manjulmayank/Desktop/trading-pipeline/.venv/lib/python3.13/site-packages (from ipython) (1.1.1)\n",
      "Requirement already satisfied: jedi>=0.16 in /Users/manjulmayank/Desktop/trading-pipeline/.venv/lib/python3.13/site-packages (from ipython) (0.19.2)\n",
      "Requirement already satisfied: matplotlib-inline in /Users/manjulmayank/Desktop/trading-pipeline/.venv/lib/python3.13/site-packages (from ipython) (0.1.7)\n",
      "Requirement already satisfied: pexpect>4.3 in /Users/manjulmayank/Desktop/trading-pipeline/.venv/lib/python3.13/site-packages (from ipython) (4.9.0)\n",
      "Requirement already satisfied: prompt_toolkit<3.1.0,>=3.0.41 in /Users/manjulmayank/Desktop/trading-pipeline/.venv/lib/python3.13/site-packages (from ipython) (3.0.51)\n",
      "Requirement already satisfied: pygments>=2.4.0 in /Users/manjulmayank/Desktop/trading-pipeline/.venv/lib/python3.13/site-packages (from ipython) (2.19.2)\n",
      "Requirement already satisfied: stack_data in /Users/manjulmayank/Desktop/trading-pipeline/.venv/lib/python3.13/site-packages (from ipython) (0.6.3)\n",
      "Requirement already satisfied: traitlets>=5.13.0 in /Users/manjulmayank/Desktop/trading-pipeline/.venv/lib/python3.13/site-packages (from ipython) (5.14.3)\n",
      "Requirement already satisfied: parso<0.9.0,>=0.8.4 in /Users/manjulmayank/Desktop/trading-pipeline/.venv/lib/python3.13/site-packages (from jedi>=0.16->ipython) (0.8.4)\n",
      "Requirement already satisfied: ptyprocess>=0.5 in /Users/manjulmayank/Desktop/trading-pipeline/.venv/lib/python3.13/site-packages (from pexpect>4.3->ipython) (0.7.0)\n",
      "Requirement already satisfied: wcwidth in /Users/manjulmayank/Desktop/trading-pipeline/.venv/lib/python3.13/site-packages (from prompt_toolkit<3.1.0,>=3.0.41->ipython) (0.2.13)\n",
      "Requirement already satisfied: appnope>=0.1.2 in /Users/manjulmayank/Desktop/trading-pipeline/.venv/lib/python3.13/site-packages (from ipykernel->jupyter) (0.1.4)\n",
      "Requirement already satisfied: comm>=0.1.1 in /Users/manjulmayank/Desktop/trading-pipeline/.venv/lib/python3.13/site-packages (from ipykernel->jupyter) (0.2.3)\n",
      "Requirement already satisfied: debugpy>=1.6.5 in /Users/manjulmayank/Desktop/trading-pipeline/.venv/lib/python3.13/site-packages (from ipykernel->jupyter) (1.8.16)\n",
      "Requirement already satisfied: jupyter-client>=8.0.0 in /Users/manjulmayank/Desktop/trading-pipeline/.venv/lib/python3.13/site-packages (from ipykernel->jupyter) (8.6.3)\n",
      "Requirement already satisfied: jupyter-core!=5.0.*,>=4.12 in /Users/manjulmayank/Desktop/trading-pipeline/.venv/lib/python3.13/site-packages (from ipykernel->jupyter) (5.8.1)\n",
      "Requirement already satisfied: nest-asyncio>=1.4 in /Users/manjulmayank/Desktop/trading-pipeline/.venv/lib/python3.13/site-packages (from ipykernel->jupyter) (1.6.0)\n",
      "Requirement already satisfied: packaging>=22 in /Users/manjulmayank/Desktop/trading-pipeline/.venv/lib/python3.13/site-packages (from ipykernel->jupyter) (25.0)\n",
      "Requirement already satisfied: psutil>=5.7 in /Users/manjulmayank/Desktop/trading-pipeline/.venv/lib/python3.13/site-packages (from ipykernel->jupyter) (7.0.0)\n",
      "Requirement already satisfied: pyzmq>=25 in /Users/manjulmayank/Desktop/trading-pipeline/.venv/lib/python3.13/site-packages (from ipykernel->jupyter) (27.0.1)\n",
      "Requirement already satisfied: tornado>=6.2 in /Users/manjulmayank/Desktop/trading-pipeline/.venv/lib/python3.13/site-packages (from ipykernel->jupyter) (6.5.2)\n",
      "Requirement already satisfied: widgetsnbextension~=4.0.14 in /Users/manjulmayank/Desktop/trading-pipeline/.venv/lib/python3.13/site-packages (from ipywidgets->jupyter) (4.0.14)\n",
      "Requirement already satisfied: jupyterlab_widgets~=3.0.15 in /Users/manjulmayank/Desktop/trading-pipeline/.venv/lib/python3.13/site-packages (from ipywidgets->jupyter) (3.0.15)\n",
      "Requirement already satisfied: notebook in /Users/manjulmayank/Desktop/trading-pipeline/.venv/lib/python3.13/site-packages (from jupyter) (7.4.5)\n",
      "Requirement already satisfied: jupyter-console in /Users/manjulmayank/Desktop/trading-pipeline/.venv/lib/python3.13/site-packages (from jupyter) (6.6.3)\n",
      "Requirement already satisfied: nbconvert in /Users/manjulmayank/Desktop/trading-pipeline/.venv/lib/python3.13/site-packages (from jupyter) (7.16.6)\n",
      "Requirement already satisfied: ipykernel in /Users/manjulmayank/Desktop/trading-pipeline/.venv/lib/python3.13/site-packages (from jupyter) (6.30.1)\n",
      "Requirement already satisfied: ipywidgets in /Users/manjulmayank/Desktop/trading-pipeline/.venv/lib/python3.13/site-packages (from jupyter) (8.1.7)\n",
      "Requirement already satisfied: jupyterlab in /Users/manjulmayank/Desktop/trading-pipeline/.venv/lib/python3.13/site-packages (from jupyter) (4.4.6)\n",
      "Requirement already satisfied: decorator in /Users/manjulmayank/Desktop/trading-pipeline/.venv/lib/python3.13/site-packages (from ipython) (5.2.1)\n",
      "Requirement already satisfied: ipython-pygments-lexers in /Users/manjulmayank/Desktop/trading-pipeline/.venv/lib/python3.13/site-packages (from ipython) (1.1.1)\n",
      "Requirement already satisfied: jedi>=0.16 in /Users/manjulmayank/Desktop/trading-pipeline/.venv/lib/python3.13/site-packages (from ipython) (0.19.2)\n",
      "Requirement already satisfied: matplotlib-inline in /Users/manjulmayank/Desktop/trading-pipeline/.venv/lib/python3.13/site-packages (from ipython) (0.1.7)\n",
      "Requirement already satisfied: pexpect>4.3 in /Users/manjulmayank/Desktop/trading-pipeline/.venv/lib/python3.13/site-packages (from ipython) (4.9.0)\n",
      "Requirement already satisfied: prompt_toolkit<3.1.0,>=3.0.41 in /Users/manjulmayank/Desktop/trading-pipeline/.venv/lib/python3.13/site-packages (from ipython) (3.0.51)\n",
      "Requirement already satisfied: pygments>=2.4.0 in /Users/manjulmayank/Desktop/trading-pipeline/.venv/lib/python3.13/site-packages (from ipython) (2.19.2)\n",
      "Requirement already satisfied: stack_data in /Users/manjulmayank/Desktop/trading-pipeline/.venv/lib/python3.13/site-packages (from ipython) (0.6.3)\n",
      "Requirement already satisfied: traitlets>=5.13.0 in /Users/manjulmayank/Desktop/trading-pipeline/.venv/lib/python3.13/site-packages (from ipython) (5.14.3)\n",
      "Requirement already satisfied: parso<0.9.0,>=0.8.4 in /Users/manjulmayank/Desktop/trading-pipeline/.venv/lib/python3.13/site-packages (from jedi>=0.16->ipython) (0.8.4)\n",
      "Requirement already satisfied: ptyprocess>=0.5 in /Users/manjulmayank/Desktop/trading-pipeline/.venv/lib/python3.13/site-packages (from pexpect>4.3->ipython) (0.7.0)\n",
      "Requirement already satisfied: wcwidth in /Users/manjulmayank/Desktop/trading-pipeline/.venv/lib/python3.13/site-packages (from prompt_toolkit<3.1.0,>=3.0.41->ipython) (0.2.13)\n",
      "Requirement already satisfied: appnope>=0.1.2 in /Users/manjulmayank/Desktop/trading-pipeline/.venv/lib/python3.13/site-packages (from ipykernel->jupyter) (0.1.4)\n",
      "Requirement already satisfied: comm>=0.1.1 in /Users/manjulmayank/Desktop/trading-pipeline/.venv/lib/python3.13/site-packages (from ipykernel->jupyter) (0.2.3)\n",
      "Requirement already satisfied: debugpy>=1.6.5 in /Users/manjulmayank/Desktop/trading-pipeline/.venv/lib/python3.13/site-packages (from ipykernel->jupyter) (1.8.16)\n",
      "Requirement already satisfied: jupyter-client>=8.0.0 in /Users/manjulmayank/Desktop/trading-pipeline/.venv/lib/python3.13/site-packages (from ipykernel->jupyter) (8.6.3)\n",
      "Requirement already satisfied: jupyter-core!=5.0.*,>=4.12 in /Users/manjulmayank/Desktop/trading-pipeline/.venv/lib/python3.13/site-packages (from ipykernel->jupyter) (5.8.1)\n",
      "Requirement already satisfied: nest-asyncio>=1.4 in /Users/manjulmayank/Desktop/trading-pipeline/.venv/lib/python3.13/site-packages (from ipykernel->jupyter) (1.6.0)\n",
      "Requirement already satisfied: packaging>=22 in /Users/manjulmayank/Desktop/trading-pipeline/.venv/lib/python3.13/site-packages (from ipykernel->jupyter) (25.0)\n",
      "Requirement already satisfied: psutil>=5.7 in /Users/manjulmayank/Desktop/trading-pipeline/.venv/lib/python3.13/site-packages (from ipykernel->jupyter) (7.0.0)\n",
      "Requirement already satisfied: pyzmq>=25 in /Users/manjulmayank/Desktop/trading-pipeline/.venv/lib/python3.13/site-packages (from ipykernel->jupyter) (27.0.1)\n",
      "Requirement already satisfied: tornado>=6.2 in /Users/manjulmayank/Desktop/trading-pipeline/.venv/lib/python3.13/site-packages (from ipykernel->jupyter) (6.5.2)\n",
      "Requirement already satisfied: widgetsnbextension~=4.0.14 in /Users/manjulmayank/Desktop/trading-pipeline/.venv/lib/python3.13/site-packages (from ipywidgets->jupyter) (4.0.14)\n",
      "Requirement already satisfied: jupyterlab_widgets~=3.0.15 in /Users/manjulmayank/Desktop/trading-pipeline/.venv/lib/python3.13/site-packages (from ipywidgets->jupyter) (3.0.15)\n",
      "Requirement already satisfied: async-lru>=1.0.0 in /Users/manjulmayank/Desktop/trading-pipeline/.venv/lib/python3.13/site-packages (from jupyterlab->jupyter) (2.0.5)\n",
      "Requirement already satisfied: httpx<1,>=0.25.0 in /Users/manjulmayank/Desktop/trading-pipeline/.venv/lib/python3.13/site-packages (from jupyterlab->jupyter) (0.28.1)\n",
      "Requirement already satisfied: jinja2>=3.0.3 in /Users/manjulmayank/Desktop/trading-pipeline/.venv/lib/python3.13/site-packages (from jupyterlab->jupyter) (3.1.6)\n",
      "Requirement already satisfied: jupyter-lsp>=2.0.0 in /Users/manjulmayank/Desktop/trading-pipeline/.venv/lib/python3.13/site-packages (from jupyterlab->jupyter) (2.2.6)\n",
      "Requirement already satisfied: jupyter-server<3,>=2.4.0 in /Users/manjulmayank/Desktop/trading-pipeline/.venv/lib/python3.13/site-packages (from jupyterlab->jupyter) (2.16.0)\n",
      "Requirement already satisfied: jupyterlab-server<3,>=2.27.1 in /Users/manjulmayank/Desktop/trading-pipeline/.venv/lib/python3.13/site-packages (from jupyterlab->jupyter) (2.27.3)\n",
      "Requirement already satisfied: notebook-shim>=0.2 in /Users/manjulmayank/Desktop/trading-pipeline/.venv/lib/python3.13/site-packages (from jupyterlab->jupyter) (0.2.4)\n",
      "Requirement already satisfied: setuptools>=41.1.0 in /Users/manjulmayank/Desktop/trading-pipeline/.venv/lib/python3.13/site-packages (from jupyterlab->jupyter) (80.9.0)\n",
      "Requirement already satisfied: beautifulsoup4 in /Users/manjulmayank/Desktop/trading-pipeline/.venv/lib/python3.13/site-packages (from nbconvert->jupyter) (4.13.4)\n",
      "Requirement already satisfied: bleach!=5.0.0 in /Users/manjulmayank/Desktop/trading-pipeline/.venv/lib/python3.13/site-packages (from bleach[css]!=5.0.0->nbconvert->jupyter) (6.2.0)\n",
      "Requirement already satisfied: defusedxml in /Users/manjulmayank/Desktop/trading-pipeline/.venv/lib/python3.13/site-packages (from nbconvert->jupyter) (0.7.1)\n",
      "Requirement already satisfied: jupyterlab-pygments in /Users/manjulmayank/Desktop/trading-pipeline/.venv/lib/python3.13/site-packages (from nbconvert->jupyter) (0.3.0)\n",
      "Requirement already satisfied: markupsafe>=2.0 in /Users/manjulmayank/Desktop/trading-pipeline/.venv/lib/python3.13/site-packages (from nbconvert->jupyter) (3.0.2)\n",
      "Requirement already satisfied: mistune<4,>=2.0.3 in /Users/manjulmayank/Desktop/trading-pipeline/.venv/lib/python3.13/site-packages (from nbconvert->jupyter) (3.1.3)\n",
      "Requirement already satisfied: nbclient>=0.5.0 in /Users/manjulmayank/Desktop/trading-pipeline/.venv/lib/python3.13/site-packages (from nbconvert->jupyter) (0.10.2)\n",
      "Requirement already satisfied: nbformat>=5.7 in /Users/manjulmayank/Desktop/trading-pipeline/.venv/lib/python3.13/site-packages (from nbconvert->jupyter) (5.10.4)\n",
      "Requirement already satisfied: pandocfilters>=1.4.1 in /Users/manjulmayank/Desktop/trading-pipeline/.venv/lib/python3.13/site-packages (from nbconvert->jupyter) (1.5.1)\n",
      "Requirement already satisfied: executing>=1.2.0 in /Users/manjulmayank/Desktop/trading-pipeline/.venv/lib/python3.13/site-packages (from stack_data->ipython) (2.2.0)\n",
      "Requirement already satisfied: asttokens>=2.1.0 in /Users/manjulmayank/Desktop/trading-pipeline/.venv/lib/python3.13/site-packages (from stack_data->ipython) (3.0.0)\n",
      "Requirement already satisfied: pure-eval in /Users/manjulmayank/Desktop/trading-pipeline/.venv/lib/python3.13/site-packages (from stack_data->ipython) (0.2.3)\n",
      "Requirement already satisfied: webencodings in /Users/manjulmayank/Desktop/trading-pipeline/.venv/lib/python3.13/site-packages (from bleach!=5.0.0->bleach[css]!=5.0.0->nbconvert->jupyter) (0.5.1)\n",
      "Requirement already satisfied: tinycss2<1.5,>=1.1.0 in /Users/manjulmayank/Desktop/trading-pipeline/.venv/lib/python3.13/site-packages (from bleach[css]!=5.0.0->nbconvert->jupyter) (1.4.0)\n",
      "Requirement already satisfied: anyio in /Users/manjulmayank/Desktop/trading-pipeline/.venv/lib/python3.13/site-packages (from httpx<1,>=0.25.0->jupyterlab->jupyter) (4.10.0)\n",
      "Requirement already satisfied: certifi in /Users/manjulmayank/Desktop/trading-pipeline/.venv/lib/python3.13/site-packages (from httpx<1,>=0.25.0->jupyterlab->jupyter) (2025.8.3)\n",
      "Requirement already satisfied: httpcore==1.* in /Users/manjulmayank/Desktop/trading-pipeline/.venv/lib/python3.13/site-packages (from httpx<1,>=0.25.0->jupyterlab->jupyter) (1.0.9)\n",
      "Requirement already satisfied: idna in /Users/manjulmayank/Desktop/trading-pipeline/.venv/lib/python3.13/site-packages (from httpx<1,>=0.25.0->jupyterlab->jupyter) (3.10)\n",
      "Requirement already satisfied: h11>=0.16 in /Users/manjulmayank/Desktop/trading-pipeline/.venv/lib/python3.13/site-packages (from httpcore==1.*->httpx<1,>=0.25.0->jupyterlab->jupyter) (0.16.0)\n",
      "Requirement already satisfied: python-dateutil>=2.8.2 in /Users/manjulmayank/Desktop/trading-pipeline/.venv/lib/python3.13/site-packages (from jupyter-client>=8.0.0->ipykernel->jupyter) (2.9.0.post0)\n",
      "Requirement already satisfied: platformdirs>=2.5 in /Users/manjulmayank/Desktop/trading-pipeline/.venv/lib/python3.13/site-packages (from jupyter-core!=5.0.*,>=4.12->ipykernel->jupyter) (4.3.8)\n",
      "Requirement already satisfied: argon2-cffi>=21.1 in /Users/manjulmayank/Desktop/trading-pipeline/.venv/lib/python3.13/site-packages (from jupyter-server<3,>=2.4.0->jupyterlab->jupyter) (25.1.0)\n",
      "Requirement already satisfied: jupyter-events>=0.11.0 in /Users/manjulmayank/Desktop/trading-pipeline/.venv/lib/python3.13/site-packages (from jupyter-server<3,>=2.4.0->jupyterlab->jupyter) (0.12.0)\n",
      "Requirement already satisfied: jupyter-server-terminals>=0.4.4 in /Users/manjulmayank/Desktop/trading-pipeline/.venv/lib/python3.13/site-packages (from jupyter-server<3,>=2.4.0->jupyterlab->jupyter) (0.5.3)\n",
      "Requirement already satisfied: overrides>=5.0 in /Users/manjulmayank/Desktop/trading-pipeline/.venv/lib/python3.13/site-packages (from jupyter-server<3,>=2.4.0->jupyterlab->jupyter) (7.7.0)\n",
      "Requirement already satisfied: prometheus-client>=0.9 in /Users/manjulmayank/Desktop/trading-pipeline/.venv/lib/python3.13/site-packages (from jupyter-server<3,>=2.4.0->jupyterlab->jupyter) (0.22.1)\n",
      "Requirement already satisfied: send2trash>=1.8.2 in /Users/manjulmayank/Desktop/trading-pipeline/.venv/lib/python3.13/site-packages (from jupyter-server<3,>=2.4.0->jupyterlab->jupyter) (1.8.3)\n",
      "Requirement already satisfied: terminado>=0.8.3 in /Users/manjulmayank/Desktop/trading-pipeline/.venv/lib/python3.13/site-packages (from jupyter-server<3,>=2.4.0->jupyterlab->jupyter) (0.18.1)\n",
      "Requirement already satisfied: websocket-client>=1.7 in /Users/manjulmayank/Desktop/trading-pipeline/.venv/lib/python3.13/site-packages (from jupyter-server<3,>=2.4.0->jupyterlab->jupyter) (1.8.0)\n",
      "Requirement already satisfied: babel>=2.10 in /Users/manjulmayank/Desktop/trading-pipeline/.venv/lib/python3.13/site-packages (from jupyterlab-server<3,>=2.27.1->jupyterlab->jupyter) (2.17.0)\n",
      "Requirement already satisfied: json5>=0.9.0 in /Users/manjulmayank/Desktop/trading-pipeline/.venv/lib/python3.13/site-packages (from jupyterlab-server<3,>=2.27.1->jupyterlab->jupyter) (0.12.1)\n",
      "Requirement already satisfied: jsonschema>=4.18.0 in /Users/manjulmayank/Desktop/trading-pipeline/.venv/lib/python3.13/site-packages (from jupyterlab-server<3,>=2.27.1->jupyterlab->jupyter) (4.25.0)\n",
      "Requirement already satisfied: requests>=2.31 in /Users/manjulmayank/Desktop/trading-pipeline/.venv/lib/python3.13/site-packages (from jupyterlab-server<3,>=2.27.1->jupyterlab->jupyter) (2.32.3)\n",
      "Requirement already satisfied: fastjsonschema>=2.15 in /Users/manjulmayank/Desktop/trading-pipeline/.venv/lib/python3.13/site-packages (from nbformat>=5.7->nbconvert->jupyter) (2.21.2)\n",
      "Requirement already satisfied: soupsieve>1.2 in /Users/manjulmayank/Desktop/trading-pipeline/.venv/lib/python3.13/site-packages (from beautifulsoup4->nbconvert->jupyter) (2.7)\n",
      "Requirement already satisfied: typing-extensions>=4.0.0 in /Users/manjulmayank/Desktop/trading-pipeline/.venv/lib/python3.13/site-packages (from beautifulsoup4->nbconvert->jupyter) (4.14.1)\n",
      "Requirement already satisfied: async-lru>=1.0.0 in /Users/manjulmayank/Desktop/trading-pipeline/.venv/lib/python3.13/site-packages (from jupyterlab->jupyter) (2.0.5)\n",
      "Requirement already satisfied: httpx<1,>=0.25.0 in /Users/manjulmayank/Desktop/trading-pipeline/.venv/lib/python3.13/site-packages (from jupyterlab->jupyter) (0.28.1)\n",
      "Requirement already satisfied: jinja2>=3.0.3 in /Users/manjulmayank/Desktop/trading-pipeline/.venv/lib/python3.13/site-packages (from jupyterlab->jupyter) (3.1.6)\n",
      "Requirement already satisfied: jupyter-lsp>=2.0.0 in /Users/manjulmayank/Desktop/trading-pipeline/.venv/lib/python3.13/site-packages (from jupyterlab->jupyter) (2.2.6)\n",
      "Requirement already satisfied: jupyter-server<3,>=2.4.0 in /Users/manjulmayank/Desktop/trading-pipeline/.venv/lib/python3.13/site-packages (from jupyterlab->jupyter) (2.16.0)\n",
      "Requirement already satisfied: jupyterlab-server<3,>=2.27.1 in /Users/manjulmayank/Desktop/trading-pipeline/.venv/lib/python3.13/site-packages (from jupyterlab->jupyter) (2.27.3)\n",
      "Requirement already satisfied: notebook-shim>=0.2 in /Users/manjulmayank/Desktop/trading-pipeline/.venv/lib/python3.13/site-packages (from jupyterlab->jupyter) (0.2.4)\n",
      "Requirement already satisfied: setuptools>=41.1.0 in /Users/manjulmayank/Desktop/trading-pipeline/.venv/lib/python3.13/site-packages (from jupyterlab->jupyter) (80.9.0)\n",
      "Requirement already satisfied: beautifulsoup4 in /Users/manjulmayank/Desktop/trading-pipeline/.venv/lib/python3.13/site-packages (from nbconvert->jupyter) (4.13.4)\n",
      "Requirement already satisfied: bleach!=5.0.0 in /Users/manjulmayank/Desktop/trading-pipeline/.venv/lib/python3.13/site-packages (from bleach[css]!=5.0.0->nbconvert->jupyter) (6.2.0)\n",
      "Requirement already satisfied: defusedxml in /Users/manjulmayank/Desktop/trading-pipeline/.venv/lib/python3.13/site-packages (from nbconvert->jupyter) (0.7.1)\n",
      "Requirement already satisfied: jupyterlab-pygments in /Users/manjulmayank/Desktop/trading-pipeline/.venv/lib/python3.13/site-packages (from nbconvert->jupyter) (0.3.0)\n",
      "Requirement already satisfied: markupsafe>=2.0 in /Users/manjulmayank/Desktop/trading-pipeline/.venv/lib/python3.13/site-packages (from nbconvert->jupyter) (3.0.2)\n",
      "Requirement already satisfied: mistune<4,>=2.0.3 in /Users/manjulmayank/Desktop/trading-pipeline/.venv/lib/python3.13/site-packages (from nbconvert->jupyter) (3.1.3)\n",
      "Requirement already satisfied: nbclient>=0.5.0 in /Users/manjulmayank/Desktop/trading-pipeline/.venv/lib/python3.13/site-packages (from nbconvert->jupyter) (0.10.2)\n",
      "Requirement already satisfied: nbformat>=5.7 in /Users/manjulmayank/Desktop/trading-pipeline/.venv/lib/python3.13/site-packages (from nbconvert->jupyter) (5.10.4)\n",
      "Requirement already satisfied: pandocfilters>=1.4.1 in /Users/manjulmayank/Desktop/trading-pipeline/.venv/lib/python3.13/site-packages (from nbconvert->jupyter) (1.5.1)\n",
      "Requirement already satisfied: executing>=1.2.0 in /Users/manjulmayank/Desktop/trading-pipeline/.venv/lib/python3.13/site-packages (from stack_data->ipython) (2.2.0)\n",
      "Requirement already satisfied: asttokens>=2.1.0 in /Users/manjulmayank/Desktop/trading-pipeline/.venv/lib/python3.13/site-packages (from stack_data->ipython) (3.0.0)\n",
      "Requirement already satisfied: pure-eval in /Users/manjulmayank/Desktop/trading-pipeline/.venv/lib/python3.13/site-packages (from stack_data->ipython) (0.2.3)\n",
      "Requirement already satisfied: webencodings in /Users/manjulmayank/Desktop/trading-pipeline/.venv/lib/python3.13/site-packages (from bleach!=5.0.0->bleach[css]!=5.0.0->nbconvert->jupyter) (0.5.1)\n",
      "Requirement already satisfied: tinycss2<1.5,>=1.1.0 in /Users/manjulmayank/Desktop/trading-pipeline/.venv/lib/python3.13/site-packages (from bleach[css]!=5.0.0->nbconvert->jupyter) (1.4.0)\n",
      "Requirement already satisfied: anyio in /Users/manjulmayank/Desktop/trading-pipeline/.venv/lib/python3.13/site-packages (from httpx<1,>=0.25.0->jupyterlab->jupyter) (4.10.0)\n",
      "Requirement already satisfied: certifi in /Users/manjulmayank/Desktop/trading-pipeline/.venv/lib/python3.13/site-packages (from httpx<1,>=0.25.0->jupyterlab->jupyter) (2025.8.3)\n",
      "Requirement already satisfied: httpcore==1.* in /Users/manjulmayank/Desktop/trading-pipeline/.venv/lib/python3.13/site-packages (from httpx<1,>=0.25.0->jupyterlab->jupyter) (1.0.9)\n",
      "Requirement already satisfied: idna in /Users/manjulmayank/Desktop/trading-pipeline/.venv/lib/python3.13/site-packages (from httpx<1,>=0.25.0->jupyterlab->jupyter) (3.10)\n",
      "Requirement already satisfied: h11>=0.16 in /Users/manjulmayank/Desktop/trading-pipeline/.venv/lib/python3.13/site-packages (from httpcore==1.*->httpx<1,>=0.25.0->jupyterlab->jupyter) (0.16.0)\n",
      "Requirement already satisfied: python-dateutil>=2.8.2 in /Users/manjulmayank/Desktop/trading-pipeline/.venv/lib/python3.13/site-packages (from jupyter-client>=8.0.0->ipykernel->jupyter) (2.9.0.post0)\n",
      "Requirement already satisfied: platformdirs>=2.5 in /Users/manjulmayank/Desktop/trading-pipeline/.venv/lib/python3.13/site-packages (from jupyter-core!=5.0.*,>=4.12->ipykernel->jupyter) (4.3.8)\n",
      "Requirement already satisfied: argon2-cffi>=21.1 in /Users/manjulmayank/Desktop/trading-pipeline/.venv/lib/python3.13/site-packages (from jupyter-server<3,>=2.4.0->jupyterlab->jupyter) (25.1.0)\n",
      "Requirement already satisfied: jupyter-events>=0.11.0 in /Users/manjulmayank/Desktop/trading-pipeline/.venv/lib/python3.13/site-packages (from jupyter-server<3,>=2.4.0->jupyterlab->jupyter) (0.12.0)\n",
      "Requirement already satisfied: jupyter-server-terminals>=0.4.4 in /Users/manjulmayank/Desktop/trading-pipeline/.venv/lib/python3.13/site-packages (from jupyter-server<3,>=2.4.0->jupyterlab->jupyter) (0.5.3)\n",
      "Requirement already satisfied: overrides>=5.0 in /Users/manjulmayank/Desktop/trading-pipeline/.venv/lib/python3.13/site-packages (from jupyter-server<3,>=2.4.0->jupyterlab->jupyter) (7.7.0)\n",
      "Requirement already satisfied: prometheus-client>=0.9 in /Users/manjulmayank/Desktop/trading-pipeline/.venv/lib/python3.13/site-packages (from jupyter-server<3,>=2.4.0->jupyterlab->jupyter) (0.22.1)\n",
      "Requirement already satisfied: send2trash>=1.8.2 in /Users/manjulmayank/Desktop/trading-pipeline/.venv/lib/python3.13/site-packages (from jupyter-server<3,>=2.4.0->jupyterlab->jupyter) (1.8.3)\n",
      "Requirement already satisfied: terminado>=0.8.3 in /Users/manjulmayank/Desktop/trading-pipeline/.venv/lib/python3.13/site-packages (from jupyter-server<3,>=2.4.0->jupyterlab->jupyter) (0.18.1)\n",
      "Requirement already satisfied: websocket-client>=1.7 in /Users/manjulmayank/Desktop/trading-pipeline/.venv/lib/python3.13/site-packages (from jupyter-server<3,>=2.4.0->jupyterlab->jupyter) (1.8.0)\n",
      "Requirement already satisfied: babel>=2.10 in /Users/manjulmayank/Desktop/trading-pipeline/.venv/lib/python3.13/site-packages (from jupyterlab-server<3,>=2.27.1->jupyterlab->jupyter) (2.17.0)\n",
      "Requirement already satisfied: json5>=0.9.0 in /Users/manjulmayank/Desktop/trading-pipeline/.venv/lib/python3.13/site-packages (from jupyterlab-server<3,>=2.27.1->jupyterlab->jupyter) (0.12.1)\n",
      "Requirement already satisfied: jsonschema>=4.18.0 in /Users/manjulmayank/Desktop/trading-pipeline/.venv/lib/python3.13/site-packages (from jupyterlab-server<3,>=2.27.1->jupyterlab->jupyter) (4.25.0)\n",
      "Requirement already satisfied: requests>=2.31 in /Users/manjulmayank/Desktop/trading-pipeline/.venv/lib/python3.13/site-packages (from jupyterlab-server<3,>=2.27.1->jupyterlab->jupyter) (2.32.3)\n",
      "Requirement already satisfied: fastjsonschema>=2.15 in /Users/manjulmayank/Desktop/trading-pipeline/.venv/lib/python3.13/site-packages (from nbformat>=5.7->nbconvert->jupyter) (2.21.2)\n",
      "Requirement already satisfied: soupsieve>1.2 in /Users/manjulmayank/Desktop/trading-pipeline/.venv/lib/python3.13/site-packages (from beautifulsoup4->nbconvert->jupyter) (2.7)\n",
      "Requirement already satisfied: typing-extensions>=4.0.0 in /Users/manjulmayank/Desktop/trading-pipeline/.venv/lib/python3.13/site-packages (from beautifulsoup4->nbconvert->jupyter) (4.14.1)\n",
      "Requirement already satisfied: sniffio>=1.1 in /Users/manjulmayank/Desktop/trading-pipeline/.venv/lib/python3.13/site-packages (from anyio->httpx<1,>=0.25.0->jupyterlab->jupyter) (1.3.1)\n",
      "Requirement already satisfied: argon2-cffi-bindings in /Users/manjulmayank/Desktop/trading-pipeline/.venv/lib/python3.13/site-packages (from argon2-cffi>=21.1->jupyter-server<3,>=2.4.0->jupyterlab->jupyter) (25.1.0)\n",
      "Requirement already satisfied: attrs>=22.2.0 in /Users/manjulmayank/Desktop/trading-pipeline/.venv/lib/python3.13/site-packages (from jsonschema>=4.18.0->jupyterlab-server<3,>=2.27.1->jupyterlab->jupyter) (25.3.0)\n",
      "Requirement already satisfied: jsonschema-specifications>=2023.03.6 in /Users/manjulmayank/Desktop/trading-pipeline/.venv/lib/python3.13/site-packages (from jsonschema>=4.18.0->jupyterlab-server<3,>=2.27.1->jupyterlab->jupyter) (2025.4.1)\n",
      "Requirement already satisfied: referencing>=0.28.4 in /Users/manjulmayank/Desktop/trading-pipeline/.venv/lib/python3.13/site-packages (from jsonschema>=4.18.0->jupyterlab-server<3,>=2.27.1->jupyterlab->jupyter) (0.36.2)\n",
      "Requirement already satisfied: rpds-py>=0.7.1 in /Users/manjulmayank/Desktop/trading-pipeline/.venv/lib/python3.13/site-packages (from jsonschema>=4.18.0->jupyterlab-server<3,>=2.27.1->jupyterlab->jupyter) (0.27.0)\n",
      "Requirement already satisfied: python-json-logger>=2.0.4 in /Users/manjulmayank/Desktop/trading-pipeline/.venv/lib/python3.13/site-packages (from jupyter-events>=0.11.0->jupyter-server<3,>=2.4.0->jupyterlab->jupyter) (3.3.0)\n",
      "Requirement already satisfied: pyyaml>=5.3 in /Users/manjulmayank/Desktop/trading-pipeline/.venv/lib/python3.13/site-packages (from jupyter-events>=0.11.0->jupyter-server<3,>=2.4.0->jupyterlab->jupyter) (6.0.2)\n",
      "Requirement already satisfied: rfc3339-validator in /Users/manjulmayank/Desktop/trading-pipeline/.venv/lib/python3.13/site-packages (from jupyter-events>=0.11.0->jupyter-server<3,>=2.4.0->jupyterlab->jupyter) (0.1.4)\n",
      "Requirement already satisfied: rfc3986-validator>=0.1.1 in /Users/manjulmayank/Desktop/trading-pipeline/.venv/lib/python3.13/site-packages (from jupyter-events>=0.11.0->jupyter-server<3,>=2.4.0->jupyterlab->jupyter) (0.1.1)\n",
      "Requirement already satisfied: six>=1.5 in /Users/manjulmayank/Desktop/trading-pipeline/.venv/lib/python3.13/site-packages (from python-dateutil>=2.8.2->jupyter-client>=8.0.0->ipykernel->jupyter) (1.17.0)\n",
      "Requirement already satisfied: charset-normalizer<4,>=2 in /Users/manjulmayank/Desktop/trading-pipeline/.venv/lib/python3.13/site-packages (from requests>=2.31->jupyterlab-server<3,>=2.27.1->jupyterlab->jupyter) (3.4.3)\n",
      "Requirement already satisfied: urllib3<3,>=1.21.1 in /Users/manjulmayank/Desktop/trading-pipeline/.venv/lib/python3.13/site-packages (from requests>=2.31->jupyterlab-server<3,>=2.27.1->jupyterlab->jupyter) (2.5.0)\n",
      "Requirement already satisfied: fqdn in /Users/manjulmayank/Desktop/trading-pipeline/.venv/lib/python3.13/site-packages (from jsonschema[format-nongpl]>=4.18.0->jupyter-events>=0.11.0->jupyter-server<3,>=2.4.0->jupyterlab->jupyter) (1.5.1)\n",
      "Requirement already satisfied: isoduration in /Users/manjulmayank/Desktop/trading-pipeline/.venv/lib/python3.13/site-packages (from jsonschema[format-nongpl]>=4.18.0->jupyter-events>=0.11.0->jupyter-server<3,>=2.4.0->jupyterlab->jupyter) (20.11.0)\n",
      "Requirement already satisfied: jsonpointer>1.13 in /Users/manjulmayank/Desktop/trading-pipeline/.venv/lib/python3.13/site-packages (from jsonschema[format-nongpl]>=4.18.0->jupyter-events>=0.11.0->jupyter-server<3,>=2.4.0->jupyterlab->jupyter) (3.0.0)\n",
      "Requirement already satisfied: rfc3987-syntax>=1.1.0 in /Users/manjulmayank/Desktop/trading-pipeline/.venv/lib/python3.13/site-packages (from jsonschema[format-nongpl]>=4.18.0->jupyter-events>=0.11.0->jupyter-server<3,>=2.4.0->jupyterlab->jupyter) (1.1.0)\n",
      "Requirement already satisfied: uri-template in /Users/manjulmayank/Desktop/trading-pipeline/.venv/lib/python3.13/site-packages (from jsonschema[format-nongpl]>=4.18.0->jupyter-events>=0.11.0->jupyter-server<3,>=2.4.0->jupyterlab->jupyter) (1.3.0)\n",
      "Requirement already satisfied: webcolors>=24.6.0 in /Users/manjulmayank/Desktop/trading-pipeline/.venv/lib/python3.13/site-packages (from jsonschema[format-nongpl]>=4.18.0->jupyter-events>=0.11.0->jupyter-server<3,>=2.4.0->jupyterlab->jupyter) (24.11.1)\n",
      "Requirement already satisfied: cffi>=1.0.1 in /Users/manjulmayank/Desktop/trading-pipeline/.venv/lib/python3.13/site-packages (from argon2-cffi-bindings->argon2-cffi>=21.1->jupyter-server<3,>=2.4.0->jupyterlab->jupyter) (1.17.1)\n",
      "Requirement already satisfied: pycparser in /Users/manjulmayank/Desktop/trading-pipeline/.venv/lib/python3.13/site-packages (from cffi>=1.0.1->argon2-cffi-bindings->argon2-cffi>=21.1->jupyter-server<3,>=2.4.0->jupyterlab->jupyter) (2.22)\n",
      "Requirement already satisfied: sniffio>=1.1 in /Users/manjulmayank/Desktop/trading-pipeline/.venv/lib/python3.13/site-packages (from anyio->httpx<1,>=0.25.0->jupyterlab->jupyter) (1.3.1)\n",
      "Requirement already satisfied: argon2-cffi-bindings in /Users/manjulmayank/Desktop/trading-pipeline/.venv/lib/python3.13/site-packages (from argon2-cffi>=21.1->jupyter-server<3,>=2.4.0->jupyterlab->jupyter) (25.1.0)\n",
      "Requirement already satisfied: attrs>=22.2.0 in /Users/manjulmayank/Desktop/trading-pipeline/.venv/lib/python3.13/site-packages (from jsonschema>=4.18.0->jupyterlab-server<3,>=2.27.1->jupyterlab->jupyter) (25.3.0)\n",
      "Requirement already satisfied: jsonschema-specifications>=2023.03.6 in /Users/manjulmayank/Desktop/trading-pipeline/.venv/lib/python3.13/site-packages (from jsonschema>=4.18.0->jupyterlab-server<3,>=2.27.1->jupyterlab->jupyter) (2025.4.1)\n",
      "Requirement already satisfied: referencing>=0.28.4 in /Users/manjulmayank/Desktop/trading-pipeline/.venv/lib/python3.13/site-packages (from jsonschema>=4.18.0->jupyterlab-server<3,>=2.27.1->jupyterlab->jupyter) (0.36.2)\n",
      "Requirement already satisfied: rpds-py>=0.7.1 in /Users/manjulmayank/Desktop/trading-pipeline/.venv/lib/python3.13/site-packages (from jsonschema>=4.18.0->jupyterlab-server<3,>=2.27.1->jupyterlab->jupyter) (0.27.0)\n",
      "Requirement already satisfied: python-json-logger>=2.0.4 in /Users/manjulmayank/Desktop/trading-pipeline/.venv/lib/python3.13/site-packages (from jupyter-events>=0.11.0->jupyter-server<3,>=2.4.0->jupyterlab->jupyter) (3.3.0)\n",
      "Requirement already satisfied: pyyaml>=5.3 in /Users/manjulmayank/Desktop/trading-pipeline/.venv/lib/python3.13/site-packages (from jupyter-events>=0.11.0->jupyter-server<3,>=2.4.0->jupyterlab->jupyter) (6.0.2)\n",
      "Requirement already satisfied: rfc3339-validator in /Users/manjulmayank/Desktop/trading-pipeline/.venv/lib/python3.13/site-packages (from jupyter-events>=0.11.0->jupyter-server<3,>=2.4.0->jupyterlab->jupyter) (0.1.4)\n",
      "Requirement already satisfied: rfc3986-validator>=0.1.1 in /Users/manjulmayank/Desktop/trading-pipeline/.venv/lib/python3.13/site-packages (from jupyter-events>=0.11.0->jupyter-server<3,>=2.4.0->jupyterlab->jupyter) (0.1.1)\n",
      "Requirement already satisfied: six>=1.5 in /Users/manjulmayank/Desktop/trading-pipeline/.venv/lib/python3.13/site-packages (from python-dateutil>=2.8.2->jupyter-client>=8.0.0->ipykernel->jupyter) (1.17.0)\n",
      "Requirement already satisfied: charset-normalizer<4,>=2 in /Users/manjulmayank/Desktop/trading-pipeline/.venv/lib/python3.13/site-packages (from requests>=2.31->jupyterlab-server<3,>=2.27.1->jupyterlab->jupyter) (3.4.3)\n",
      "Requirement already satisfied: urllib3<3,>=1.21.1 in /Users/manjulmayank/Desktop/trading-pipeline/.venv/lib/python3.13/site-packages (from requests>=2.31->jupyterlab-server<3,>=2.27.1->jupyterlab->jupyter) (2.5.0)\n",
      "Requirement already satisfied: fqdn in /Users/manjulmayank/Desktop/trading-pipeline/.venv/lib/python3.13/site-packages (from jsonschema[format-nongpl]>=4.18.0->jupyter-events>=0.11.0->jupyter-server<3,>=2.4.0->jupyterlab->jupyter) (1.5.1)\n",
      "Requirement already satisfied: isoduration in /Users/manjulmayank/Desktop/trading-pipeline/.venv/lib/python3.13/site-packages (from jsonschema[format-nongpl]>=4.18.0->jupyter-events>=0.11.0->jupyter-server<3,>=2.4.0->jupyterlab->jupyter) (20.11.0)\n",
      "Requirement already satisfied: jsonpointer>1.13 in /Users/manjulmayank/Desktop/trading-pipeline/.venv/lib/python3.13/site-packages (from jsonschema[format-nongpl]>=4.18.0->jupyter-events>=0.11.0->jupyter-server<3,>=2.4.0->jupyterlab->jupyter) (3.0.0)\n",
      "Requirement already satisfied: rfc3987-syntax>=1.1.0 in /Users/manjulmayank/Desktop/trading-pipeline/.venv/lib/python3.13/site-packages (from jsonschema[format-nongpl]>=4.18.0->jupyter-events>=0.11.0->jupyter-server<3,>=2.4.0->jupyterlab->jupyter) (1.1.0)\n",
      "Requirement already satisfied: uri-template in /Users/manjulmayank/Desktop/trading-pipeline/.venv/lib/python3.13/site-packages (from jsonschema[format-nongpl]>=4.18.0->jupyter-events>=0.11.0->jupyter-server<3,>=2.4.0->jupyterlab->jupyter) (1.3.0)\n",
      "Requirement already satisfied: webcolors>=24.6.0 in /Users/manjulmayank/Desktop/trading-pipeline/.venv/lib/python3.13/site-packages (from jsonschema[format-nongpl]>=4.18.0->jupyter-events>=0.11.0->jupyter-server<3,>=2.4.0->jupyterlab->jupyter) (24.11.1)\n",
      "Requirement already satisfied: cffi>=1.0.1 in /Users/manjulmayank/Desktop/trading-pipeline/.venv/lib/python3.13/site-packages (from argon2-cffi-bindings->argon2-cffi>=21.1->jupyter-server<3,>=2.4.0->jupyterlab->jupyter) (1.17.1)\n",
      "Requirement already satisfied: pycparser in /Users/manjulmayank/Desktop/trading-pipeline/.venv/lib/python3.13/site-packages (from cffi>=1.0.1->argon2-cffi-bindings->argon2-cffi>=21.1->jupyter-server<3,>=2.4.0->jupyterlab->jupyter) (2.22)\n",
      "Requirement already satisfied: lark>=1.2.2 in /Users/manjulmayank/Desktop/trading-pipeline/.venv/lib/python3.13/site-packages (from rfc3987-syntax>=1.1.0->jsonschema[format-nongpl]>=4.18.0->jupyter-events>=0.11.0->jupyter-server<3,>=2.4.0->jupyterlab->jupyter) (1.2.2)\n",
      "Requirement already satisfied: arrow>=0.15.0 in /Users/manjulmayank/Desktop/trading-pipeline/.venv/lib/python3.13/site-packages (from isoduration->jsonschema[format-nongpl]>=4.18.0->jupyter-events>=0.11.0->jupyter-server<3,>=2.4.0->jupyterlab->jupyter) (1.3.0)\n",
      "Requirement already satisfied: types-python-dateutil>=2.8.10 in /Users/manjulmayank/Desktop/trading-pipeline/.venv/lib/python3.13/site-packages (from arrow>=0.15.0->isoduration->jsonschema[format-nongpl]>=4.18.0->jupyter-events>=0.11.0->jupyter-server<3,>=2.4.0->jupyterlab->jupyter) (2.9.0.20250809)\n",
      "Requirement already satisfied: lark>=1.2.2 in /Users/manjulmayank/Desktop/trading-pipeline/.venv/lib/python3.13/site-packages (from rfc3987-syntax>=1.1.0->jsonschema[format-nongpl]>=4.18.0->jupyter-events>=0.11.0->jupyter-server<3,>=2.4.0->jupyterlab->jupyter) (1.2.2)\n",
      "Requirement already satisfied: arrow>=0.15.0 in /Users/manjulmayank/Desktop/trading-pipeline/.venv/lib/python3.13/site-packages (from isoduration->jsonschema[format-nongpl]>=4.18.0->jupyter-events>=0.11.0->jupyter-server<3,>=2.4.0->jupyterlab->jupyter) (1.3.0)\n",
      "Requirement already satisfied: types-python-dateutil>=2.8.10 in /Users/manjulmayank/Desktop/trading-pipeline/.venv/lib/python3.13/site-packages (from arrow>=0.15.0->isoduration->jsonschema[format-nongpl]>=4.18.0->jupyter-events>=0.11.0->jupyter-server<3,>=2.4.0->jupyterlab->jupyter) (2.9.0.20250809)\n",
      "\n",
      "\u001b[1m[\u001b[0m\u001b[34;49mnotice\u001b[0m\u001b[1;39;49m]\u001b[0m\u001b[39;49m A new release of pip is available: \u001b[0m\u001b[31;49m24.2\u001b[0m\u001b[39;49m -> \u001b[0m\u001b[32;49m25.2\u001b[0m\n",
      "\u001b[1m[\u001b[0m\u001b[34;49mnotice\u001b[0m\u001b[1;39;49m]\u001b[0m\u001b[39;49m To update, run: \u001b[0m\u001b[32;49mpip install --upgrade pip\u001b[0m\n",
      "\n",
      "\u001b[1m[\u001b[0m\u001b[34;49mnotice\u001b[0m\u001b[1;39;49m]\u001b[0m\u001b[39;49m A new release of pip is available: \u001b[0m\u001b[31;49m24.2\u001b[0m\u001b[39;49m -> \u001b[0m\u001b[32;49m25.2\u001b[0m\n",
      "\u001b[1m[\u001b[0m\u001b[34;49mnotice\u001b[0m\u001b[1;39;49m]\u001b[0m\u001b[39;49m To update, run: \u001b[0m\u001b[32;49mpip install --upgrade pip\u001b[0m\n"
     ]
    }
   ],
   "source": [
    "!pip install --upgrade jupyter ipython"
   ]
  },
  {
   "cell_type": "code",
   "execution_count": 12,
   "id": "8b77e24f",
   "metadata": {},
   "outputs": [
    {
     "data": {
      "application/vnd.plotly.v1+json": {
       "config": {
        "plotlyServerURL": "https://plot.ly"
       },
       "data": [
        {
         "hovertemplate": "Date=%{x}<br>Equity Curve=%{y}<extra></extra>",
         "legendgroup": "",
         "line": {
          "color": "#636efa",
          "dash": "solid",
          "width": 3
         },
         "marker": {
          "symbol": "circle"
         },
         "mode": "lines",
         "name": "",
         "orientation": "v",
         "showlegend": false,
         "type": "scatter",
         "x": [
          "2025-05-16T00:00:00.000000000",
          "2025-05-16T00:00:00.000000000",
          "2025-05-16T00:00:00.000000000",
          "2025-05-16T00:00:00.000000000",
          "2025-05-16T00:00:00.000000000",
          "2025-05-19T00:00:00.000000000",
          "2025-05-19T00:00:00.000000000",
          "2025-05-19T00:00:00.000000000",
          "2025-05-19T00:00:00.000000000",
          "2025-05-19T00:00:00.000000000",
          "2025-05-20T00:00:00.000000000",
          "2025-05-20T00:00:00.000000000",
          "2025-05-20T00:00:00.000000000",
          "2025-05-20T00:00:00.000000000",
          "2025-05-20T00:00:00.000000000",
          "2025-05-21T00:00:00.000000000",
          "2025-05-21T00:00:00.000000000",
          "2025-05-21T00:00:00.000000000",
          "2025-05-21T00:00:00.000000000",
          "2025-05-21T00:00:00.000000000",
          "2025-05-22T00:00:00.000000000",
          "2025-05-22T00:00:00.000000000",
          "2025-05-22T00:00:00.000000000",
          "2025-05-22T00:00:00.000000000",
          "2025-05-22T00:00:00.000000000",
          "2025-05-23T00:00:00.000000000",
          "2025-05-23T00:00:00.000000000",
          "2025-05-23T00:00:00.000000000",
          "2025-05-23T00:00:00.000000000",
          "2025-05-23T00:00:00.000000000",
          "2025-05-26T00:00:00.000000000",
          "2025-05-26T00:00:00.000000000",
          "2025-05-26T00:00:00.000000000",
          "2025-05-26T00:00:00.000000000",
          "2025-05-26T00:00:00.000000000",
          "2025-05-27T00:00:00.000000000",
          "2025-05-27T00:00:00.000000000",
          "2025-05-27T00:00:00.000000000",
          "2025-05-27T00:00:00.000000000",
          "2025-05-27T00:00:00.000000000",
          "2025-05-28T00:00:00.000000000",
          "2025-05-28T00:00:00.000000000",
          "2025-05-28T00:00:00.000000000",
          "2025-05-28T00:00:00.000000000",
          "2025-05-28T00:00:00.000000000",
          "2025-05-29T00:00:00.000000000",
          "2025-05-29T00:00:00.000000000",
          "2025-05-29T00:00:00.000000000",
          "2025-05-29T00:00:00.000000000",
          "2025-05-29T00:00:00.000000000",
          "2025-05-30T00:00:00.000000000",
          "2025-05-30T00:00:00.000000000",
          "2025-05-30T00:00:00.000000000",
          "2025-05-30T00:00:00.000000000",
          "2025-05-30T00:00:00.000000000",
          "2025-06-02T00:00:00.000000000",
          "2025-06-02T00:00:00.000000000",
          "2025-06-02T00:00:00.000000000",
          "2025-06-02T00:00:00.000000000",
          "2025-06-02T00:00:00.000000000",
          "2025-06-03T00:00:00.000000000",
          "2025-06-03T00:00:00.000000000",
          "2025-06-03T00:00:00.000000000",
          "2025-06-03T00:00:00.000000000",
          "2025-06-03T00:00:00.000000000",
          "2025-06-04T00:00:00.000000000",
          "2025-06-04T00:00:00.000000000",
          "2025-06-04T00:00:00.000000000",
          "2025-06-04T00:00:00.000000000",
          "2025-06-04T00:00:00.000000000",
          "2025-06-05T00:00:00.000000000",
          "2025-06-05T00:00:00.000000000",
          "2025-06-05T00:00:00.000000000",
          "2025-06-05T00:00:00.000000000",
          "2025-06-05T00:00:00.000000000",
          "2025-06-06T00:00:00.000000000",
          "2025-06-06T00:00:00.000000000",
          "2025-06-06T00:00:00.000000000",
          "2025-06-06T00:00:00.000000000",
          "2025-06-06T00:00:00.000000000",
          "2025-06-09T00:00:00.000000000",
          "2025-06-09T00:00:00.000000000",
          "2025-06-09T00:00:00.000000000",
          "2025-06-09T00:00:00.000000000",
          "2025-06-09T00:00:00.000000000",
          "2025-06-10T00:00:00.000000000",
          "2025-06-10T00:00:00.000000000",
          "2025-06-10T00:00:00.000000000",
          "2025-06-10T00:00:00.000000000",
          "2025-06-10T00:00:00.000000000",
          "2025-06-11T00:00:00.000000000",
          "2025-06-11T00:00:00.000000000",
          "2025-06-11T00:00:00.000000000",
          "2025-06-11T00:00:00.000000000",
          "2025-06-11T00:00:00.000000000",
          "2025-06-12T00:00:00.000000000",
          "2025-06-12T00:00:00.000000000",
          "2025-06-12T00:00:00.000000000",
          "2025-06-12T00:00:00.000000000",
          "2025-06-12T00:00:00.000000000",
          "2025-06-13T00:00:00.000000000",
          "2025-06-13T00:00:00.000000000",
          "2025-06-13T00:00:00.000000000",
          "2025-06-13T00:00:00.000000000",
          "2025-06-13T00:00:00.000000000",
          "2025-06-16T00:00:00.000000000",
          "2025-06-16T00:00:00.000000000",
          "2025-06-16T00:00:00.000000000",
          "2025-06-16T00:00:00.000000000",
          "2025-06-16T00:00:00.000000000",
          "2025-06-17T00:00:00.000000000",
          "2025-06-17T00:00:00.000000000",
          "2025-06-17T00:00:00.000000000",
          "2025-06-17T00:00:00.000000000",
          "2025-06-17T00:00:00.000000000",
          "2025-06-18T00:00:00.000000000",
          "2025-06-18T00:00:00.000000000",
          "2025-06-18T00:00:00.000000000",
          "2025-06-18T00:00:00.000000000",
          "2025-06-18T00:00:00.000000000",
          "2025-06-19T00:00:00.000000000",
          "2025-06-19T00:00:00.000000000",
          "2025-06-19T00:00:00.000000000",
          "2025-06-19T00:00:00.000000000",
          "2025-06-19T00:00:00.000000000",
          "2025-06-20T00:00:00.000000000",
          "2025-06-20T00:00:00.000000000",
          "2025-06-20T00:00:00.000000000",
          "2025-06-20T00:00:00.000000000",
          "2025-06-20T00:00:00.000000000",
          "2025-06-23T00:00:00.000000000",
          "2025-06-23T00:00:00.000000000",
          "2025-06-23T00:00:00.000000000",
          "2025-06-23T00:00:00.000000000",
          "2025-06-23T00:00:00.000000000",
          "2025-06-24T00:00:00.000000000",
          "2025-06-24T00:00:00.000000000",
          "2025-06-24T00:00:00.000000000",
          "2025-06-24T00:00:00.000000000",
          "2025-06-24T00:00:00.000000000",
          "2025-06-25T00:00:00.000000000",
          "2025-06-25T00:00:00.000000000",
          "2025-06-25T00:00:00.000000000",
          "2025-06-25T00:00:00.000000000",
          "2025-06-25T00:00:00.000000000",
          "2025-06-26T00:00:00.000000000",
          "2025-06-26T00:00:00.000000000",
          "2025-06-26T00:00:00.000000000",
          "2025-06-26T00:00:00.000000000",
          "2025-06-26T00:00:00.000000000",
          "2025-06-27T00:00:00.000000000",
          "2025-06-27T00:00:00.000000000",
          "2025-06-27T00:00:00.000000000",
          "2025-06-27T00:00:00.000000000",
          "2025-06-27T00:00:00.000000000",
          "2025-06-30T00:00:00.000000000",
          "2025-06-30T00:00:00.000000000",
          "2025-06-30T00:00:00.000000000",
          "2025-06-30T00:00:00.000000000",
          "2025-06-30T00:00:00.000000000",
          "2025-07-01T00:00:00.000000000",
          "2025-07-01T00:00:00.000000000",
          "2025-07-01T00:00:00.000000000",
          "2025-07-01T00:00:00.000000000",
          "2025-07-01T00:00:00.000000000",
          "2025-07-02T00:00:00.000000000",
          "2025-07-02T00:00:00.000000000",
          "2025-07-02T00:00:00.000000000",
          "2025-07-02T00:00:00.000000000",
          "2025-07-02T00:00:00.000000000",
          "2025-07-03T00:00:00.000000000",
          "2025-07-03T00:00:00.000000000",
          "2025-07-03T00:00:00.000000000",
          "2025-07-03T00:00:00.000000000",
          "2025-07-03T00:00:00.000000000",
          "2025-07-04T00:00:00.000000000",
          "2025-07-04T00:00:00.000000000",
          "2025-07-04T00:00:00.000000000",
          "2025-07-04T00:00:00.000000000",
          "2025-07-04T00:00:00.000000000",
          "2025-07-07T00:00:00.000000000",
          "2025-07-07T00:00:00.000000000",
          "2025-07-07T00:00:00.000000000",
          "2025-07-07T00:00:00.000000000",
          "2025-07-07T00:00:00.000000000",
          "2025-07-08T00:00:00.000000000",
          "2025-07-08T00:00:00.000000000",
          "2025-07-08T00:00:00.000000000",
          "2025-07-08T00:00:00.000000000",
          "2025-07-08T00:00:00.000000000",
          "2025-07-09T00:00:00.000000000",
          "2025-07-09T00:00:00.000000000",
          "2025-07-09T00:00:00.000000000",
          "2025-07-09T00:00:00.000000000",
          "2025-07-09T00:00:00.000000000",
          "2025-07-10T00:00:00.000000000",
          "2025-07-10T00:00:00.000000000",
          "2025-07-10T00:00:00.000000000",
          "2025-07-10T00:00:00.000000000",
          "2025-07-10T00:00:00.000000000",
          "2025-07-11T00:00:00.000000000",
          "2025-07-11T00:00:00.000000000",
          "2025-07-11T00:00:00.000000000",
          "2025-07-11T00:00:00.000000000",
          "2025-07-11T00:00:00.000000000",
          "2025-07-14T00:00:00.000000000",
          "2025-07-14T00:00:00.000000000",
          "2025-07-14T00:00:00.000000000",
          "2025-07-14T00:00:00.000000000",
          "2025-07-14T00:00:00.000000000",
          "2025-07-15T00:00:00.000000000",
          "2025-07-15T00:00:00.000000000",
          "2025-07-15T00:00:00.000000000",
          "2025-07-15T00:00:00.000000000",
          "2025-07-15T00:00:00.000000000",
          "2025-07-16T00:00:00.000000000",
          "2025-07-16T00:00:00.000000000",
          "2025-07-16T00:00:00.000000000",
          "2025-07-16T00:00:00.000000000",
          "2025-07-16T00:00:00.000000000",
          "2025-07-17T00:00:00.000000000",
          "2025-07-17T00:00:00.000000000",
          "2025-07-17T00:00:00.000000000",
          "2025-07-17T00:00:00.000000000",
          "2025-07-17T00:00:00.000000000",
          "2025-07-18T00:00:00.000000000",
          "2025-07-18T00:00:00.000000000",
          "2025-07-18T00:00:00.000000000",
          "2025-07-18T00:00:00.000000000",
          "2025-07-18T00:00:00.000000000",
          "2025-07-21T00:00:00.000000000",
          "2025-07-21T00:00:00.000000000",
          "2025-07-21T00:00:00.000000000",
          "2025-07-21T00:00:00.000000000",
          "2025-07-21T00:00:00.000000000",
          "2025-07-22T00:00:00.000000000",
          "2025-07-22T00:00:00.000000000",
          "2025-07-22T00:00:00.000000000",
          "2025-07-22T00:00:00.000000000",
          "2025-07-22T00:00:00.000000000",
          "2025-07-23T00:00:00.000000000",
          "2025-07-23T00:00:00.000000000",
          "2025-07-23T00:00:00.000000000",
          "2025-07-23T00:00:00.000000000",
          "2025-07-23T00:00:00.000000000",
          "2025-07-24T00:00:00.000000000",
          "2025-07-24T00:00:00.000000000",
          "2025-07-24T00:00:00.000000000",
          "2025-07-24T00:00:00.000000000",
          "2025-07-24T00:00:00.000000000",
          "2025-07-25T00:00:00.000000000",
          "2025-07-25T00:00:00.000000000",
          "2025-07-25T00:00:00.000000000",
          "2025-07-25T00:00:00.000000000",
          "2025-07-25T00:00:00.000000000",
          "2025-07-28T00:00:00.000000000",
          "2025-07-28T00:00:00.000000000",
          "2025-07-28T00:00:00.000000000",
          "2025-07-28T00:00:00.000000000",
          "2025-07-28T00:00:00.000000000",
          "2025-07-29T00:00:00.000000000",
          "2025-07-29T00:00:00.000000000",
          "2025-07-29T00:00:00.000000000",
          "2025-07-29T00:00:00.000000000",
          "2025-07-29T00:00:00.000000000",
          "2025-07-30T00:00:00.000000000",
          "2025-07-30T00:00:00.000000000",
          "2025-07-30T00:00:00.000000000",
          "2025-07-30T00:00:00.000000000",
          "2025-07-30T00:00:00.000000000",
          "2025-07-31T00:00:00.000000000",
          "2025-07-31T00:00:00.000000000",
          "2025-07-31T00:00:00.000000000",
          "2025-07-31T00:00:00.000000000",
          "2025-07-31T00:00:00.000000000",
          "2025-08-01T00:00:00.000000000",
          "2025-08-01T00:00:00.000000000",
          "2025-08-01T00:00:00.000000000",
          "2025-08-01T00:00:00.000000000",
          "2025-08-01T00:00:00.000000000",
          "2025-08-04T00:00:00.000000000",
          "2025-08-04T00:00:00.000000000",
          "2025-08-04T00:00:00.000000000",
          "2025-08-04T00:00:00.000000000",
          "2025-08-04T00:00:00.000000000",
          "2025-08-05T00:00:00.000000000",
          "2025-08-05T00:00:00.000000000",
          "2025-08-05T00:00:00.000000000",
          "2025-08-05T00:00:00.000000000",
          "2025-08-05T00:00:00.000000000",
          "2025-08-06T00:00:00.000000000",
          "2025-08-06T00:00:00.000000000",
          "2025-08-06T00:00:00.000000000",
          "2025-08-06T00:00:00.000000000",
          "2025-08-06T00:00:00.000000000",
          "2025-08-07T00:00:00.000000000",
          "2025-08-07T00:00:00.000000000",
          "2025-08-07T00:00:00.000000000",
          "2025-08-07T00:00:00.000000000",
          "2025-08-07T00:00:00.000000000",
          "2025-08-08T00:00:00.000000000",
          "2025-08-08T00:00:00.000000000",
          "2025-08-08T00:00:00.000000000",
          "2025-08-08T00:00:00.000000000",
          "2025-08-08T00:00:00.000000000",
          "2025-08-11T00:00:00.000000000",
          "2025-08-11T00:00:00.000000000",
          "2025-08-11T00:00:00.000000000",
          "2025-08-11T00:00:00.000000000",
          "2025-08-11T00:00:00.000000000",
          "2025-08-12T00:00:00.000000000",
          "2025-08-12T00:00:00.000000000",
          "2025-08-12T00:00:00.000000000",
          "2025-08-12T00:00:00.000000000",
          "2025-08-12T00:00:00.000000000",
          "2025-08-13T00:00:00.000000000",
          "2025-08-13T00:00:00.000000000",
          "2025-08-13T00:00:00.000000000",
          "2025-08-13T00:00:00.000000000",
          "2025-08-13T00:00:00.000000000",
          "2025-08-14T00:00:00.000000000",
          "2025-08-14T00:00:00.000000000",
          "2025-08-14T00:00:00.000000000",
          "2025-08-14T00:00:00.000000000"
         ],
         "xaxis": "x",
         "y": {
          "bdata": "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",
          "dtype": "f8"
         },
         "yaxis": "y"
        }
       ],
       "layout": {
        "legend": {
         "tracegroupgap": 0
        },
        "template": {
         "data": {
          "bar": [
           {
            "error_x": {
             "color": "#f2f5fa"
            },
            "error_y": {
             "color": "#f2f5fa"
            },
            "marker": {
             "line": {
              "color": "rgb(17,17,17)",
              "width": 0.5
             },
             "pattern": {
              "fillmode": "overlay",
              "size": 10,
              "solidity": 0.2
             }
            },
            "type": "bar"
           }
          ],
          "barpolar": [
           {
            "marker": {
             "line": {
              "color": "rgb(17,17,17)",
              "width": 0.5
             },
             "pattern": {
              "fillmode": "overlay",
              "size": 10,
              "solidity": 0.2
             }
            },
            "type": "barpolar"
           }
          ],
          "carpet": [
           {
            "aaxis": {
             "endlinecolor": "#A2B1C6",
             "gridcolor": "#506784",
             "linecolor": "#506784",
             "minorgridcolor": "#506784",
             "startlinecolor": "#A2B1C6"
            },
            "baxis": {
             "endlinecolor": "#A2B1C6",
             "gridcolor": "#506784",
             "linecolor": "#506784",
             "minorgridcolor": "#506784",
             "startlinecolor": "#A2B1C6"
            },
            "type": "carpet"
           }
          ],
          "choropleth": [
           {
            "colorbar": {
             "outlinewidth": 0,
             "ticks": ""
            },
            "type": "choropleth"
           }
          ],
          "contour": [
           {
            "colorbar": {
             "outlinewidth": 0,
             "ticks": ""
            },
            "colorscale": [
             [
              0,
              "#0d0887"
             ],
             [
              0.1111111111111111,
              "#46039f"
             ],
             [
              0.2222222222222222,
              "#7201a8"
             ],
             [
              0.3333333333333333,
              "#9c179e"
             ],
             [
              0.4444444444444444,
              "#bd3786"
             ],
             [
              0.5555555555555556,
              "#d8576b"
             ],
             [
              0.6666666666666666,
              "#ed7953"
             ],
             [
              0.7777777777777778,
              "#fb9f3a"
             ],
             [
              0.8888888888888888,
              "#fdca26"
             ],
             [
              1,
              "#f0f921"
             ]
            ],
            "type": "contour"
           }
          ],
          "contourcarpet": [
           {
            "colorbar": {
             "outlinewidth": 0,
             "ticks": ""
            },
            "type": "contourcarpet"
           }
          ],
          "heatmap": [
           {
            "colorbar": {
             "outlinewidth": 0,
             "ticks": ""
            },
            "colorscale": [
             [
              0,
              "#0d0887"
             ],
             [
              0.1111111111111111,
              "#46039f"
             ],
             [
              0.2222222222222222,
              "#7201a8"
             ],
             [
              0.3333333333333333,
              "#9c179e"
             ],
             [
              0.4444444444444444,
              "#bd3786"
             ],
             [
              0.5555555555555556,
              "#d8576b"
             ],
             [
              0.6666666666666666,
              "#ed7953"
             ],
             [
              0.7777777777777778,
              "#fb9f3a"
             ],
             [
              0.8888888888888888,
              "#fdca26"
             ],
             [
              1,
              "#f0f921"
             ]
            ],
            "type": "heatmap"
           }
          ],
          "histogram": [
           {
            "marker": {
             "pattern": {
              "fillmode": "overlay",
              "size": 10,
              "solidity": 0.2
             }
            },
            "type": "histogram"
           }
          ],
          "histogram2d": [
           {
            "colorbar": {
             "outlinewidth": 0,
             "ticks": ""
            },
            "colorscale": [
             [
              0,
              "#0d0887"
             ],
             [
              0.1111111111111111,
              "#46039f"
             ],
             [
              0.2222222222222222,
              "#7201a8"
             ],
             [
              0.3333333333333333,
              "#9c179e"
             ],
             [
              0.4444444444444444,
              "#bd3786"
             ],
             [
              0.5555555555555556,
              "#d8576b"
             ],
             [
              0.6666666666666666,
              "#ed7953"
             ],
             [
              0.7777777777777778,
              "#fb9f3a"
             ],
             [
              0.8888888888888888,
              "#fdca26"
             ],
             [
              1,
              "#f0f921"
             ]
            ],
            "type": "histogram2d"
           }
          ],
          "histogram2dcontour": [
           {
            "colorbar": {
             "outlinewidth": 0,
             "ticks": ""
            },
            "colorscale": [
             [
              0,
              "#0d0887"
             ],
             [
              0.1111111111111111,
              "#46039f"
             ],
             [
              0.2222222222222222,
              "#7201a8"
             ],
             [
              0.3333333333333333,
              "#9c179e"
             ],
             [
              0.4444444444444444,
              "#bd3786"
             ],
             [
              0.5555555555555556,
              "#d8576b"
             ],
             [
              0.6666666666666666,
              "#ed7953"
             ],
             [
              0.7777777777777778,
              "#fb9f3a"
             ],
             [
              0.8888888888888888,
              "#fdca26"
             ],
             [
              1,
              "#f0f921"
             ]
            ],
            "type": "histogram2dcontour"
           }
          ],
          "mesh3d": [
           {
            "colorbar": {
             "outlinewidth": 0,
             "ticks": ""
            },
            "type": "mesh3d"
           }
          ],
          "parcoords": [
           {
            "line": {
             "colorbar": {
              "outlinewidth": 0,
              "ticks": ""
             }
            },
            "type": "parcoords"
           }
          ],
          "pie": [
           {
            "automargin": true,
            "type": "pie"
           }
          ],
          "scatter": [
           {
            "marker": {
             "line": {
              "color": "#283442"
             }
            },
            "type": "scatter"
           }
          ],
          "scatter3d": [
           {
            "line": {
             "colorbar": {
              "outlinewidth": 0,
              "ticks": ""
             }
            },
            "marker": {
             "colorbar": {
              "outlinewidth": 0,
              "ticks": ""
             }
            },
            "type": "scatter3d"
           }
          ],
          "scattercarpet": [
           {
            "marker": {
             "colorbar": {
              "outlinewidth": 0,
              "ticks": ""
             }
            },
            "type": "scattercarpet"
           }
          ],
          "scattergeo": [
           {
            "marker": {
             "colorbar": {
              "outlinewidth": 0,
              "ticks": ""
             }
            },
            "type": "scattergeo"
           }
          ],
          "scattergl": [
           {
            "marker": {
             "line": {
              "color": "#283442"
             }
            },
            "type": "scattergl"
           }
          ],
          "scattermap": [
           {
            "marker": {
             "colorbar": {
              "outlinewidth": 0,
              "ticks": ""
             }
            },
            "type": "scattermap"
           }
          ],
          "scattermapbox": [
           {
            "marker": {
             "colorbar": {
              "outlinewidth": 0,
              "ticks": ""
             }
            },
            "type": "scattermapbox"
           }
          ],
          "scatterpolar": [
           {
            "marker": {
             "colorbar": {
              "outlinewidth": 0,
              "ticks": ""
             }
            },
            "type": "scatterpolar"
           }
          ],
          "scatterpolargl": [
           {
            "marker": {
             "colorbar": {
              "outlinewidth": 0,
              "ticks": ""
             }
            },
            "type": "scatterpolargl"
           }
          ],
          "scatterternary": [
           {
            "marker": {
             "colorbar": {
              "outlinewidth": 0,
              "ticks": ""
             }
            },
            "type": "scatterternary"
           }
          ],
          "surface": [
           {
            "colorbar": {
             "outlinewidth": 0,
             "ticks": ""
            },
            "colorscale": [
             [
              0,
              "#0d0887"
             ],
             [
              0.1111111111111111,
              "#46039f"
             ],
             [
              0.2222222222222222,
              "#7201a8"
             ],
             [
              0.3333333333333333,
              "#9c179e"
             ],
             [
              0.4444444444444444,
              "#bd3786"
             ],
             [
              0.5555555555555556,
              "#d8576b"
             ],
             [
              0.6666666666666666,
              "#ed7953"
             ],
             [
              0.7777777777777778,
              "#fb9f3a"
             ],
             [
              0.8888888888888888,
              "#fdca26"
             ],
             [
              1,
              "#f0f921"
             ]
            ],
            "type": "surface"
           }
          ],
          "table": [
           {
            "cells": {
             "fill": {
              "color": "#506784"
             },
             "line": {
              "color": "rgb(17,17,17)"
             }
            },
            "header": {
             "fill": {
              "color": "#2a3f5f"
             },
             "line": {
              "color": "rgb(17,17,17)"
             }
            },
            "type": "table"
           }
          ]
         },
         "layout": {
          "annotationdefaults": {
           "arrowcolor": "#f2f5fa",
           "arrowhead": 0,
           "arrowwidth": 1
          },
          "autotypenumbers": "strict",
          "coloraxis": {
           "colorbar": {
            "outlinewidth": 0,
            "ticks": ""
           }
          },
          "colorscale": {
           "diverging": [
            [
             0,
             "#8e0152"
            ],
            [
             0.1,
             "#c51b7d"
            ],
            [
             0.2,
             "#de77ae"
            ],
            [
             0.3,
             "#f1b6da"
            ],
            [
             0.4,
             "#fde0ef"
            ],
            [
             0.5,
             "#f7f7f7"
            ],
            [
             0.6,
             "#e6f5d0"
            ],
            [
             0.7,
             "#b8e186"
            ],
            [
             0.8,
             "#7fbc41"
            ],
            [
             0.9,
             "#4d9221"
            ],
            [
             1,
             "#276419"
            ]
           ],
           "sequential": [
            [
             0,
             "#0d0887"
            ],
            [
             0.1111111111111111,
             "#46039f"
            ],
            [
             0.2222222222222222,
             "#7201a8"
            ],
            [
             0.3333333333333333,
             "#9c179e"
            ],
            [
             0.4444444444444444,
             "#bd3786"
            ],
            [
             0.5555555555555556,
             "#d8576b"
            ],
            [
             0.6666666666666666,
             "#ed7953"
            ],
            [
             0.7777777777777778,
             "#fb9f3a"
            ],
            [
             0.8888888888888888,
             "#fdca26"
            ],
            [
             1,
             "#f0f921"
            ]
           ],
           "sequentialminus": [
            [
             0,
             "#0d0887"
            ],
            [
             0.1111111111111111,
             "#46039f"
            ],
            [
             0.2222222222222222,
             "#7201a8"
            ],
            [
             0.3333333333333333,
             "#9c179e"
            ],
            [
             0.4444444444444444,
             "#bd3786"
            ],
            [
             0.5555555555555556,
             "#d8576b"
            ],
            [
             0.6666666666666666,
             "#ed7953"
            ],
            [
             0.7777777777777778,
             "#fb9f3a"
            ],
            [
             0.8888888888888888,
             "#fdca26"
            ],
            [
             1,
             "#f0f921"
            ]
           ]
          },
          "colorway": [
           "#636efa",
           "#EF553B",
           "#00cc96",
           "#ab63fa",
           "#FFA15A",
           "#19d3f3",
           "#FF6692",
           "#B6E880",
           "#FF97FF",
           "#FECB52"
          ],
          "font": {
           "color": "#f2f5fa"
          },
          "geo": {
           "bgcolor": "rgb(17,17,17)",
           "lakecolor": "rgb(17,17,17)",
           "landcolor": "rgb(17,17,17)",
           "showlakes": true,
           "showland": true,
           "subunitcolor": "#506784"
          },
          "hoverlabel": {
           "align": "left"
          },
          "hovermode": "closest",
          "mapbox": {
           "style": "dark"
          },
          "paper_bgcolor": "rgb(17,17,17)",
          "plot_bgcolor": "rgb(17,17,17)",
          "polar": {
           "angularaxis": {
            "gridcolor": "#506784",
            "linecolor": "#506784",
            "ticks": ""
           },
           "bgcolor": "rgb(17,17,17)",
           "radialaxis": {
            "gridcolor": "#506784",
            "linecolor": "#506784",
            "ticks": ""
           }
          },
          "scene": {
           "xaxis": {
            "backgroundcolor": "rgb(17,17,17)",
            "gridcolor": "#506784",
            "gridwidth": 2,
            "linecolor": "#506784",
            "showbackground": true,
            "ticks": "",
            "zerolinecolor": "#C8D4E3"
           },
           "yaxis": {
            "backgroundcolor": "rgb(17,17,17)",
            "gridcolor": "#506784",
            "gridwidth": 2,
            "linecolor": "#506784",
            "showbackground": true,
            "ticks": "",
            "zerolinecolor": "#C8D4E3"
           },
           "zaxis": {
            "backgroundcolor": "rgb(17,17,17)",
            "gridcolor": "#506784",
            "gridwidth": 2,
            "linecolor": "#506784",
            "showbackground": true,
            "ticks": "",
            "zerolinecolor": "#C8D4E3"
           }
          },
          "shapedefaults": {
           "line": {
            "color": "#f2f5fa"
           }
          },
          "sliderdefaults": {
           "bgcolor": "#C8D4E3",
           "bordercolor": "rgb(17,17,17)",
           "borderwidth": 1,
           "tickwidth": 0
          },
          "ternary": {
           "aaxis": {
            "gridcolor": "#506784",
            "linecolor": "#506784",
            "ticks": ""
           },
           "baxis": {
            "gridcolor": "#506784",
            "linecolor": "#506784",
            "ticks": ""
           },
           "bgcolor": "rgb(17,17,17)",
           "caxis": {
            "gridcolor": "#506784",
            "linecolor": "#506784",
            "ticks": ""
           }
          },
          "title": {
           "x": 0.05
          },
          "updatemenudefaults": {
           "bgcolor": "#506784",
           "borderwidth": 0
          },
          "xaxis": {
           "automargin": true,
           "gridcolor": "#283442",
           "linecolor": "#506784",
           "ticks": "",
           "title": {
            "standoff": 15
           },
           "zerolinecolor": "#283442",
           "zerolinewidth": 2
          },
          "yaxis": {
           "automargin": true,
           "gridcolor": "#283442",
           "linecolor": "#506784",
           "ticks": "",
           "title": {
            "standoff": 15
           },
           "zerolinecolor": "#283442",
           "zerolinewidth": 2
          }
         }
        },
        "title": {
         "text": "Interactive Equity Curve"
        },
        "xaxis": {
         "anchor": "y",
         "domain": [
          0,
          1
         ],
         "title": {
          "text": "Date"
         }
        },
        "yaxis": {
         "anchor": "x",
         "domain": [
          0,
          1
         ],
         "title": {
          "text": "Equity Curve"
         }
        }
       }
      }
     },
     "metadata": {},
     "output_type": "display_data"
    }
   ],
   "source": [
    "import plotly.express as px\n",
    "\n",
    "# Ensure date is datetime\n",
    "equity_df = curve.copy()\n",
    "equity_df['date'] = pd.to_datetime(curve['date'])\n",
    "\n",
    "fig = px.line(equity_df, x='date', y='equity_curve', title='Interactive Equity Curve',\n",
    "              labels={'date': 'Date', 'equity_curve': 'Equity Curve'},\n",
    "              template='plotly_dark')\n",
    "fig.update_traces(line=dict(width=3))\n",
    "fig.show()"
   ]
  },
  {
   "cell_type": "code",
   "execution_count": 13,
   "id": "4f4b795c",
   "metadata": {},
   "outputs": [
    {
     "data": {
      "image/png": "[encoded data removed]",
      "text/plain": [
       "<Figure size 1400x700 with 1 Axes>"
      ]
     },
     "metadata": {},
     "output_type": "display_data"
    }
   ],
   "source": [
    "import seaborn as sns\n",
    "sns.set(style='whitegrid', context='talk', palette='deep')\n",
    "\n",
    "plt.figure(figsize=(14, 7))\n",
    "sns.lineplot(data=equity_df, x='date', y='equity_curve', linewidth=2.5)\n",
    "plt.title('Equity Curve (Seaborn Enhanced)', fontsize=18)\n",
    "plt.xlabel('Date', fontsize=14)\n",
    "plt.ylabel('Equity Curve', fontsize=14)\n",
    "plt.xticks(rotation=45)\n",
    "plt.tight_layout()\n",
    "plt.show()"
   ]
  },
  {
   "cell_type": "markdown",
   "id": "f8b3ac51",
   "metadata": {},
   "source": [
    "# Machine Learning Comparison for Equity Curve Prediction\n",
    "\n",
    "We will engineer features from the equity curve and compare multiple machine learning models:\n",
    "- Logistic Regression\n",
    "- Random Forest\n",
    "- Support Vector Machine (SVM)\n",
    "\n",
    "We will use rolling statistics and lagged returns as features, and compare model performance for predicting next-day up/down movement."
   ]
  },
  {
   "cell_type": "code",
   "execution_count": 15,
   "id": "533a4c5e",
   "metadata": {},
   "outputs": [],
   "source": [
    "import pandas as pd\n",
    "import numpy as np\n",
    "from sklearn.model_selection import train_test_split\n",
    "from sklearn.preprocessing import StandardScaler\n",
    "\n",
    "# Load data\n",
    "df = pd.read_csv('equity_curve.csv')\n",
    "df['date'] = pd.to_datetime(df['date'])\n",
    "\n",
    "# Feature engineering\n",
    "# 1. Daily return\n",
    "# 2. Rolling mean/volatility\n",
    "# 3. Lagged returns\n",
    "\n",
    "df['return'] = df['equity_curve'].pct_change()\n",
    "df['roll_mean_5'] = df['equity_curve'].rolling(5).mean()\n",
    "df['roll_std_5'] = df['equity_curve'].rolling(5).std()\n",
    "df['return_lag_1'] = df['return'].shift(1)\n",
    "df['return_lag_2'] = df['return'].shift(2)\n",
    "\n",
    "# Target: 1 if equity_curve increases next day, else 0\n",
    "df['target'] = (df['equity_curve'].shift(-1) > df['equity_curve']).astype(int)\n",
    "\n",
    "# Drop rows with NaN (from rolling/lags)\n",
    "data = df.dropna().copy()\n",
    "features = ['return', 'roll_mean_5', 'roll_std_5', 'return_lag_1', 'return_lag_2']\n",
    "X = data[features]\n",
    "y = data['target']\n",
    "\n",
    "# Train/test split\n",
    "X_train, X_test, y_train, y_test = train_test_split(X, y, test_size=0.2, shuffle=False)\n",
    "\n",
    "# Scale features\n",
    "scaler = StandardScaler()\n",
    "X_train_scaled = scaler.fit_transform(X_train)\n",
    "X_test_scaled = scaler.transform(X_test)"
   ]
  },
  {
   "cell_type": "code",
   "execution_count": 16,
   "id": "b255c8df",
   "metadata": {},
   "outputs": [
    {
     "name": "stdout",
     "output_type": "stream",
     "text": [
      "\n",
      "Logistic Regression Accuracy: 0.281\n",
      "              precision    recall  f1-score   support\n",
      "\n",
      "           0       1.00      0.06      0.12        49\n",
      "           1       0.25      1.00      0.39        15\n",
      "\n",
      "    accuracy                           0.28        64\n",
      "   macro avg       0.62      0.53      0.26        64\n",
      "weighted avg       0.82      0.28      0.18        64\n",
      "\n",
      "\n",
      "Random Forest Accuracy: 0.328\n",
      "              precision    recall  f1-score   support\n",
      "\n",
      "           0       0.71      0.20      0.32        49\n",
      "           1       0.22      0.73      0.34        15\n",
      "\n",
      "    accuracy                           0.33        64\n",
      "   macro avg       0.47      0.47      0.33        64\n",
      "weighted avg       0.60      0.33      0.32        64\n",
      "\n",
      "\n",
      "SVM Accuracy: 0.766\n",
      "              precision    recall  f1-score   support\n",
      "\n",
      "           0       0.77      1.00      0.87        49\n",
      "           1       0.00      0.00      0.00        15\n",
      "\n",
      "    accuracy                           0.77        64\n",
      "   macro avg       0.38      0.50      0.43        64\n",
      "weighted avg       0.59      0.77      0.66        64\n",
      "\n"
     ]
    },
    {
     "name": "stderr",
     "output_type": "stream",
     "text": [
      "/Users/manjulmayank/Desktop/trading-pipeline/.venv/lib/python3.13/site-packages/sklearn/metrics/_classification.py:1531: UndefinedMetricWarning:\n",
      "\n",
      "Precision is ill-defined and being set to 0.0 in labels with no predicted samples. Use `zero_division` parameter to control this behavior.\n",
      "\n",
      "/Users/manjulmayank/Desktop/trading-pipeline/.venv/lib/python3.13/site-packages/sklearn/metrics/_classification.py:1531: UndefinedMetricWarning:\n",
      "\n",
      "Precision is ill-defined and being set to 0.0 in labels with no predicted samples. Use `zero_division` parameter to control this behavior.\n",
      "\n",
      "/Users/manjulmayank/Desktop/trading-pipeline/.venv/lib/python3.13/site-packages/sklearn/metrics/_classification.py:1531: UndefinedMetricWarning:\n",
      "\n",
      "Precision is ill-defined and being set to 0.0 in labels with no predicted samples. Use `zero_division` parameter to control this behavior.\n",
      "\n"
     ]
    }
   ],
   "source": [
    "from sklearn.linear_model import LogisticRegression\n",
    "from sklearn.ensemble import RandomForestClassifier\n",
    "from sklearn.svm import SVC\n",
    "from sklearn.metrics import accuracy_score, classification_report\n",
    "\n",
    "models = {\n",
    "    'Logistic Regression': LogisticRegression(max_iter=1000, random_state=42),\n",
    "    'Random Forest': RandomForestClassifier(n_estimators=100, random_state=42),\n",
    "    'SVM': SVC(kernel='rbf', C=1.0, random_state=42)\n",
    "}\n",
    "\n",
    "results = {}\n",
    "for name, model in models.items():\n",
    "    model.fit(X_train_scaled, y_train)\n",
    "    y_pred = model.predict(X_test_scaled)\n",
    "    acc = accuracy_score(y_test, y_pred)\n",
    "    results[name] = acc\n",
    "    print(f'\\n{name} Accuracy: {acc:.3f}')\n",
    "    print(classification_report(y_test, y_pred))"
   ]
  },
  {
   "cell_type": "code",
   "execution_count": 17,
   "id": "346a0147",
   "metadata": {},
   "outputs": [
    {
     "name": "stderr",
     "output_type": "stream",
     "text": [
      "/var/folders/nc/nyzq_bys0dl6667pjw956zjc0000gn/T/ipykernel_76435/2908102912.py:6: FutureWarning:\n",
      "\n",
      "\n",
      "\n",
      "Passing `palette` without assigning `hue` is deprecated and will be removed in v0.14.0. Assign the `x` variable to `hue` and set `legend=False` for the same effect.\n",
      "\n",
      "\n"
     ]
    },
    {
     "data": {
      "image/png": "[encoded data removed]",
      "text/plain": [
       "<Figure size 800x500 with 1 Axes>"
      ]
     },
     "metadata": {},
     "output_type": "display_data"
    }
   ],
   "source": [
    "import matplotlib.pyplot as plt\n",
    "import seaborn as sns\n",
    "\n",
    "# Visualize model comparison\n",
    "plt.figure(figsize=(8,5))\n",
    "sns.barplot(x=list(results.keys()), y=list(results.values()), palette='viridis')\n",
    "plt.title('Model Accuracy Comparison')\n",
    "plt.ylabel('Accuracy')\n",
    "plt.ylim(0, 1)\n",
    "plt.show()"
   ]
  },
  {
   "cell_type": "code",
   "execution_count": 18,
   "id": "279efb6b",
   "metadata": {},
   "outputs": [
    {
     "data": {
      "image/png": "[encoded data removed]",
      "text/plain": [
       "<Figure size 1400x400 with 1 Axes>"
      ]
     },
     "metadata": {},
     "output_type": "display_data"
    }
   ],
   "source": [
    "# Plot actual vs predicted for the best model\n",
    "best_model_name = max(results, key=results.get)\n",
    "best_model = models[best_model_name]\n",
    "y_pred_best = best_model.predict(X_test_scaled)\n",
    "\n",
    "plt.figure(figsize=(14,4))\n",
    "plt.plot(data.index[-len(y_test):], y_test.values, label='Actual', marker='o')\n",
    "plt.plot(data.index[-len(y_test):], y_pred_best, label=f'{best_model_name} Prediction', marker='x')\n",
    "plt.xlabel('Index')\n",
    "plt.ylabel('Up (1) / Down (0)')\n",
    "plt.title(f'{best_model_name} Prediction vs Actual Up/Down Movement')\n",
    "plt.legend()\n",
    "plt.show()"
   ]
  }
 ],
 "metadata": {
  "kernelspec": {
   "display_name": ".venv",
   "language": "python",
   "name": "python3"
  },
  "language_info": {
   "codemirror_mode": {
    "name": "ipython",
    "version": 3
   },
   "file_extension": ".py",
   "mimetype": "text/x-python",
   "name": "python",
   "nbconvert_exporter": "python",
   "pygments_lexer": "ipython3",
   "version": "3.13.0"
  }
 },
 "nbformat": 4,
 "nbformat_minor": 5
}
